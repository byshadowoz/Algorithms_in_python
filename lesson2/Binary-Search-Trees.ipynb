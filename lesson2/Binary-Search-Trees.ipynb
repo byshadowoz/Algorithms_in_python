{
 "cells": [
  {
   "cell_type": "code",
   "execution_count": 81,
   "metadata": {},
   "outputs": [],
   "source": [
    "class User:\n",
    "    pass"
   ]
  },
  {
   "cell_type": "code",
   "execution_count": 82,
   "metadata": {},
   "outputs": [],
   "source": [
    "user1 = User()"
   ]
  },
  {
   "cell_type": "code",
   "execution_count": 83,
   "metadata": {},
   "outputs": [
    {
     "data": {
      "text/plain": [
       "<__main__.User at 0x755c2e802020>"
      ]
     },
     "execution_count": 83,
     "metadata": {},
     "output_type": "execute_result"
    }
   ],
   "source": [
    "user1"
   ]
  },
  {
   "cell_type": "code",
   "execution_count": 84,
   "metadata": {},
   "outputs": [],
   "source": [
    "class User:\n",
    "    def __init__(self, username, name, email):\n",
    "        self.username = username\n",
    "        self.name = name\n",
    "        self.email = email\n",
    "        print('User created!')"
   ]
  },
  {
   "cell_type": "code",
   "execution_count": 85,
   "metadata": {},
   "outputs": [
    {
     "name": "stdout",
     "output_type": "stream",
     "text": [
      "User created!\n"
     ]
    }
   ],
   "source": [
    "user2 = User('jonh', 'Jonh Doe', 'jonh@doe.com')"
   ]
  },
  {
   "cell_type": "code",
   "execution_count": 86,
   "metadata": {},
   "outputs": [
    {
     "data": {
      "text/plain": [
       "<__main__.User at 0x755c2e8005b0>"
      ]
     },
     "execution_count": 86,
     "metadata": {},
     "output_type": "execute_result"
    }
   ],
   "source": [
    "user2"
   ]
  },
  {
   "cell_type": "code",
   "execution_count": 87,
   "metadata": {},
   "outputs": [],
   "source": [
    "class User:\n",
    "    def __init__(self, username, name, email):\n",
    "        self.username = username\n",
    "        self.name = name\n",
    "        self.email = email\n",
    "        print('User created!')\n",
    "    def introduce_yourselft(self, guest_name):\n",
    "        print(\"Hi {}, I'm {}! Contact me at {}\".format(guest_name, self.name, self.email))"
   ]
  },
  {
   "cell_type": "code",
   "execution_count": 88,
   "metadata": {},
   "outputs": [
    {
     "name": "stdout",
     "output_type": "stream",
     "text": [
      "User created!\n"
     ]
    }
   ],
   "source": [
    "user3 = User('jane', 'Jane Doe', 'jane@doe.com')"
   ]
  },
  {
   "cell_type": "code",
   "execution_count": 89,
   "metadata": {},
   "outputs": [
    {
     "name": "stdout",
     "output_type": "stream",
     "text": [
      "Hi David, I'm Jane Doe! Contact me at jane@doe.com\n"
     ]
    }
   ],
   "source": [
    "user3.introduce_yourselft('David')"
   ]
  },
  {
   "cell_type": "code",
   "execution_count": 90,
   "metadata": {},
   "outputs": [],
   "source": [
    "class User:\n",
    "    def __init__(self, username, name, email):\n",
    "        self.username = username\n",
    "        self.name = name\n",
    "        self.email = email\n",
    "        print('User created!')\n",
    "        \n",
    "    def __str__(self):\n",
    "        return self.username()\n",
    "    \n",
    "    def __repr__(self):\n",
    "        return \"User(username='{}', name='{}', email='{}')\".format(self.username, self.name, self.email)"
   ]
  },
  {
   "cell_type": "code",
   "execution_count": 91,
   "metadata": {},
   "outputs": [
    {
     "name": "stdout",
     "output_type": "stream",
     "text": [
      "User created!\n"
     ]
    }
   ],
   "source": [
    "user4 = User('ane', 'Ane Futher', 'anefuther@as.com')"
   ]
  },
  {
   "cell_type": "code",
   "execution_count": 92,
   "metadata": {},
   "outputs": [
    {
     "data": {
      "text/plain": [
       "User(username='ane', name='Ane Futher', email='anefuther@as.com')"
      ]
     },
     "execution_count": 92,
     "metadata": {},
     "output_type": "execute_result"
    }
   ],
   "source": [
    "user4"
   ]
  },
  {
   "cell_type": "markdown",
   "metadata": {},
   "source": [
    "Exercise: What is the purpose of defining the functions __str__ and __repr__ within a class? \n",
    "How are the two functions different? Illustrate with some examples using the empty cells below.\n"
   ]
  },
  {
   "cell_type": "markdown",
   "metadata": {},
   "source": [
    "---"
   ]
  },
  {
   "cell_type": "markdown",
   "metadata": {},
   "source": [
    "the funtion __repr__ will print the return in the output of user4\n",
    "but i don't have completly understand the __str__ meaning but when is called with the print function it will print the return of __str__"
   ]
  },
  {
   "cell_type": "code",
   "execution_count": 93,
   "metadata": {},
   "outputs": [],
   "source": [
    "class UserDataBase:\n",
    "    def insert(self, user):\n",
    "        pass\n",
    "    \n",
    "    def find(self, username):\n",
    "        pass\n",
    "    \n",
    "    def update(self, user):\n",
    "        pass\n",
    "    \n",
    "    def list_all(self):\n",
    "        self"
   ]
  },
  {
   "cell_type": "code",
   "execution_count": 94,
   "metadata": {},
   "outputs": [
    {
     "name": "stdout",
     "output_type": "stream",
     "text": [
      "User created!\n",
      "User created!\n",
      "User created!\n",
      "User created!\n",
      "User created!\n",
      "User created!\n",
      "User created!\n"
     ]
    }
   ],
   "source": [
    "aakash = User('aakash', 'Aakash Rai', 'aakash@example.com')\n",
    "biraj = User('biraj', 'Biraj Das', 'biraj@example.com')\n",
    "hemanth = User('hemanth', 'Hemanth Jain', 'hemanth@example.com')\n",
    "jadhesh = User('jadhesh', 'Jadhesh Verma', 'jadhesh@example.com')\n",
    "siddhant = User('siddhant', 'Siddhant Sinha', 'siddhant@example.com')\n",
    "sonaksh = User('sonaksh', 'Sonaksh Kumar', 'sonaksh@example.com')\n",
    "vishal = User('vishal', 'Vishal Goel', 'vishal@example.com')"
   ]
  },
  {
   "cell_type": "code",
   "execution_count": 95,
   "metadata": {},
   "outputs": [],
   "source": [
    "users = [aakash, biraj, hemanth, jadhesh, siddhant, sonaksh, vishal]"
   ]
  },
  {
   "cell_type": "code",
   "execution_count": 96,
   "metadata": {},
   "outputs": [],
   "source": [
    "class UserDataBase:\n",
    "    def __init__(self):\n",
    "        self.users = []\n",
    "        \n",
    "    def insert(self,user):\n",
    "        i = 0\n",
    "        while i < len(self.users):\n",
    "            if self.users[i].username > user.username:\n",
    "                self.users[i] = user\n",
    "                break\n",
    "            i += 1\n",
    "        self.users.insert(i,user)\n",
    "    \n",
    "    def find(self, username):\n",
    "        for user in self.users:\n",
    "            if user.username == username:\n",
    "                return user\n",
    "            \n",
    "    def update(self, user):\n",
    "        target = self.find(user.username)\n",
    "        target.name, target.email = user.name, user.email\n",
    "        \n",
    "    def list_all(self):\n",
    "        return self.users"
   ]
  },
  {
   "cell_type": "code",
   "execution_count": 97,
   "metadata": {},
   "outputs": [],
   "source": [
    "database = UserDataBase()"
   ]
  },
  {
   "cell_type": "code",
   "execution_count": 98,
   "metadata": {},
   "outputs": [],
   "source": [
    "database.insert(hemanth)\n",
    "database.insert(aakash)\n",
    "database.insert(siddhant)"
   ]
  },
  {
   "cell_type": "code",
   "execution_count": 99,
   "metadata": {},
   "outputs": [
    {
     "data": {
      "text/plain": [
       "User(username='siddhant', name='Siddhant Sinha', email='siddhant@example.com')"
      ]
     },
     "execution_count": 99,
     "metadata": {},
     "output_type": "execute_result"
    }
   ],
   "source": [
    "database.find('siddhant')"
   ]
  },
  {
   "cell_type": "code",
   "execution_count": 100,
   "metadata": {},
   "outputs": [
    {
     "name": "stdout",
     "output_type": "stream",
     "text": [
      "User created!\n"
     ]
    }
   ],
   "source": [
    "database.update(User(username='siddhant', name='Siddhant U', email='siddhant@example.com'))"
   ]
  },
  {
   "cell_type": "code",
   "execution_count": 101,
   "metadata": {},
   "outputs": [
    {
     "data": {
      "text/plain": [
       "User(username='siddhant', name='Siddhant U', email='siddhant@example.com')"
      ]
     },
     "execution_count": 101,
     "metadata": {},
     "output_type": "execute_result"
    }
   ],
   "source": [
    "database.find('siddhant')"
   ]
  },
  {
   "cell_type": "code",
   "execution_count": 102,
   "metadata": {},
   "outputs": [],
   "source": [
    "database.insert(biraj)"
   ]
  },
  {
   "cell_type": "code",
   "execution_count": 103,
   "metadata": {},
   "outputs": [
    {
     "data": {
      "text/plain": [
       "[User(username='aakash', name='Aakash Rai', email='aakash@example.com'),\n",
       " User(username='aakash', name='Aakash Rai', email='aakash@example.com'),\n",
       " User(username='biraj', name='Biraj Das', email='biraj@example.com'),\n",
       " User(username='biraj', name='Biraj Das', email='biraj@example.com')]"
      ]
     },
     "execution_count": 103,
     "metadata": {},
     "output_type": "execute_result"
    }
   ],
   "source": [
    "database.list_all()"
   ]
  },
  {
   "cell_type": "code",
   "execution_count": 104,
   "metadata": {},
   "outputs": [
    {
     "name": "stdout",
     "output_type": "stream",
     "text": [
      "CPU times: user 7.64 s, sys: 5.51 ms, total: 7.65 s\n",
      "Wall time: 7.66 s\n"
     ]
    }
   ],
   "source": [
    "%%time\n",
    "for i in range(100000000):\n",
    "    j = i*i"
   ]
  },
  {
   "cell_type": "code",
   "execution_count": 105,
   "metadata": {},
   "outputs": [],
   "source": [
    "!pip install jovian --upgrade --quiet"
   ]
  },
  {
   "cell_type": "code",
   "execution_count": 106,
   "metadata": {},
   "outputs": [],
   "source": [
    "import jovian"
   ]
  },
  {
   "cell_type": "code",
   "execution_count": 107,
   "metadata": {},
   "outputs": [],
   "source": [
    "class TreeNode:\n",
    "    def __init__(self, key):\n",
    "        self.key = key\n",
    "        self.left = None\n",
    "        self.right = None"
   ]
  },
  {
   "cell_type": "code",
   "execution_count": 108,
   "metadata": {},
   "outputs": [],
   "source": [
    "Node0 = TreeNode(3)\n",
    "Node1 = TreeNode(4)\n",
    "Node2 = TreeNode(5)"
   ]
  },
  {
   "cell_type": "code",
   "execution_count": 109,
   "metadata": {},
   "outputs": [],
   "source": [
    "Node0.left = Node1\n",
    "Node0.right = Node2"
   ]
  },
  {
   "cell_type": "code",
   "execution_count": 110,
   "metadata": {},
   "outputs": [],
   "source": [
    "tree = Node0"
   ]
  },
  {
   "cell_type": "code",
   "execution_count": 111,
   "metadata": {},
   "outputs": [
    {
     "data": {
      "text/plain": [
       "5"
      ]
     },
     "execution_count": 111,
     "metadata": {},
     "output_type": "execute_result"
    }
   ],
   "source": [
    "tree.right.key"
   ]
  },
  {
   "cell_type": "code",
   "execution_count": 112,
   "metadata": {},
   "outputs": [],
   "source": [
    "tree_tuple = ((1,3,None), 2, ((None, 3, 4), 5, (6, 7, 8)))"
   ]
  },
  {
   "cell_type": "code",
   "execution_count": 113,
   "metadata": {},
   "outputs": [],
   "source": [
    "def parse_tuple(data):\n",
    "    print(data)\n",
    "    if isinstance(data, tuple) and len(data) == 3:\n",
    "        node = TreeNode(data[1])\n",
    "        node.left = parse_tuple(data[0])\n",
    "        node.right = parse_tuple(data[2])\n",
    "        \n",
    "    elif data is None:\n",
    "        node = None\n",
    "        \n",
    "    else:\n",
    "        node = TreeNode(data)\n",
    "        \n",
    "    return node"
   ]
  },
  {
   "cell_type": "code",
   "execution_count": 114,
   "metadata": {},
   "outputs": [
    {
     "name": "stdout",
     "output_type": "stream",
     "text": [
      "((1, 3, None), 2, ((None, 3, 4), 5, (6, 7, 8)))\n",
      "(1, 3, None)\n",
      "1\n",
      "None\n",
      "((None, 3, 4), 5, (6, 7, 8))\n",
      "(None, 3, 4)\n",
      "None\n",
      "4\n",
      "(6, 7, 8)\n",
      "6\n",
      "8\n"
     ]
    }
   ],
   "source": [
    "tree2 = parse_tuple(((1,3,None), 2, ((None, 3, 4), 5, (6, 7, 8))))"
   ]
  },
  {
   "cell_type": "code",
   "execution_count": 115,
   "metadata": {},
   "outputs": [
    {
     "data": {
      "text/plain": [
       "<__main__.TreeNode at 0x755c4c0434f0>"
      ]
     },
     "execution_count": 115,
     "metadata": {},
     "output_type": "execute_result"
    }
   ],
   "source": [
    "tree2"
   ]
  },
  {
   "cell_type": "code",
   "execution_count": 116,
   "metadata": {},
   "outputs": [
    {
     "data": {
      "text/plain": [
       "2"
      ]
     },
     "execution_count": 116,
     "metadata": {},
     "output_type": "execute_result"
    }
   ],
   "source": [
    "tree2.key"
   ]
  },
  {
   "cell_type": "code",
   "execution_count": 117,
   "metadata": {},
   "outputs": [
    {
     "data": {
      "text/plain": [
       "(3, 5)"
      ]
     },
     "execution_count": 117,
     "metadata": {},
     "output_type": "execute_result"
    }
   ],
   "source": [
    "tree2.left.key, tree2.right.key"
   ]
  },
  {
   "cell_type": "code",
   "execution_count": 118,
   "metadata": {},
   "outputs": [
    {
     "data": {
      "text/plain": [
       "4"
      ]
     },
     "execution_count": 118,
     "metadata": {},
     "output_type": "execute_result"
    }
   ],
   "source": [
    "tree2.right.left.right.key"
   ]
  },
  {
   "cell_type": "code",
   "execution_count": 119,
   "metadata": {},
   "outputs": [],
   "source": [
    "def traverse_in_order(node):\n",
    "    if node is None: \n",
    "        return []\n",
    "    return(traverse_in_order(node.left) + \n",
    "           [node.key] + \n",
    "           traverse_in_order(node.right))"
   ]
  },
  {
   "cell_type": "code",
   "execution_count": 120,
   "metadata": {},
   "outputs": [
    {
     "data": {
      "text/plain": [
       "[1, 3, 2, 3, 4, 5, 6, 7, 8]"
      ]
     },
     "execution_count": 120,
     "metadata": {},
     "output_type": "execute_result"
    }
   ],
   "source": [
    "traverse_in_order(tree2)"
   ]
  },
  {
   "cell_type": "code",
   "execution_count": 121,
   "metadata": {},
   "outputs": [],
   "source": [
    "def pre_order_traversal(node):\n",
    "    if node is None:\n",
    "        return []\n",
    "    return([node.key] +\n",
    "    pre_order_traversal(node.left) +\n",
    "    pre_order_traversal(node.right))"
   ]
  },
  {
   "cell_type": "code",
   "execution_count": 122,
   "metadata": {},
   "outputs": [
    {
     "data": {
      "text/plain": [
       "[2, 3, 1, 5, 3, 4, 7, 6, 8]"
      ]
     },
     "execution_count": 122,
     "metadata": {},
     "output_type": "execute_result"
    }
   ],
   "source": [
    "pre_order_traversal(tree2)"
   ]
  },
  {
   "cell_type": "code",
   "execution_count": 123,
   "metadata": {},
   "outputs": [],
   "source": [
    "def post_order_traversal(node):\n",
    "    if node is None:\n",
    "        return []\n",
    "    return(\n",
    "    post_order_traversal(node.left) +\n",
    "    post_order_traversal(node.right) +\n",
    "    [node.key])"
   ]
  },
  {
   "cell_type": "code",
   "execution_count": 124,
   "metadata": {},
   "outputs": [
    {
     "data": {
      "text/plain": [
       "[1, 3, 5, 3, 4, 7, 6, 8, 2]"
      ]
     },
     "execution_count": 124,
     "metadata": {},
     "output_type": "execute_result"
    }
   ],
   "source": [
    "post_order_traversal(tree2)"
   ]
  },
  {
   "cell_type": "code",
   "execution_count": 125,
   "metadata": {},
   "outputs": [],
   "source": [
    "def tree_height(node):\n",
    "    if node is None:\n",
    "        return 0\n",
    "    return 1 + max(tree_height(node.left), tree_height(node.right))"
   ]
  },
  {
   "cell_type": "code",
   "execution_count": 126,
   "metadata": {},
   "outputs": [
    {
     "data": {
      "text/plain": [
       "4"
      ]
     },
     "execution_count": 126,
     "metadata": {},
     "output_type": "execute_result"
    }
   ],
   "source": [
    "tree_height(tree2)"
   ]
  },
  {
   "cell_type": "code",
   "execution_count": 127,
   "metadata": {},
   "outputs": [],
   "source": [
    "def tree_size(node):\n",
    "    if node is None:\n",
    "        return 0\n",
    "    return 1 + tree_size(node.left) + tree_size(node.right)"
   ]
  },
  {
   "cell_type": "code",
   "execution_count": 128,
   "metadata": {},
   "outputs": [
    {
     "data": {
      "text/plain": [
       "9"
      ]
     },
     "execution_count": 128,
     "metadata": {},
     "output_type": "execute_result"
    }
   ],
   "source": [
    "tree_size(tree2)"
   ]
  },
  {
   "cell_type": "code",
   "execution_count": 129,
   "metadata": {},
   "outputs": [],
   "source": [
    "class TreeNode():\n",
    "    def __init__(self, key):\n",
    "        self.key, self.left, self.right = key, None, None\n",
    "    \n",
    "    def height(self):\n",
    "        if self is None:\n",
    "            return 0\n",
    "        return 1 + max(TreeNode.height(self.left), TreeNode.height(self.right))\n",
    "    \n",
    "    def size(self):\n",
    "        if self is None:\n",
    "            return 0\n",
    "        return 1 + TreeNode.size(self.left) + TreeNode.size(self.right)\n",
    "\n",
    "    def traverse_in_order(self):\n",
    "        if self is None: \n",
    "            return []\n",
    "        return (TreeNode.traverse_in_order(self.left) + \n",
    "                [self.key] + \n",
    "                TreeNode.traverse_in_order(self.right))\n",
    "        \n",
    "    def post_order_traversal(node):\n",
    "        if node is None:\n",
    "            return []\n",
    "        return(\n",
    "        post_order_traversal(node.left) +\n",
    "        pre_order_traversal(node.right) +\n",
    "        [node.key])\n",
    "        \n",
    "    def pre_order_traversal(node):\n",
    "        if node is None:\n",
    "            return []\n",
    "        return([node.key] +\n",
    "        pre_order_traversal(node.left) +\n",
    "        pre_order_traversal(node.right))\n",
    "    \n",
    "    def display_keys(self, space='\\t', level=0):\n",
    "        # If the node is empty\n",
    "        if self is None:\n",
    "            print(space*level + '∅')\n",
    "            return   \n",
    "\n",
    "        # If the node is a leaf \n",
    "        if self.left is None and self.right is None:\n",
    "            print(space*level + str(self.key))\n",
    "            return\n",
    "\n",
    "        # If the node has children\n",
    "        display_keys(self.right, space, level+1)\n",
    "        print(space*level + str(self.key))\n",
    "        display_keys(self.left,space, level+1)    \n",
    "    \n",
    "    def to_tuple(self):\n",
    "        if self is None:\n",
    "            return None\n",
    "        if self.left is None and self.right is None:\n",
    "            return self.key\n",
    "        return TreeNode.to_tuple(self.left),  self.key, TreeNode.to_tuple(self.right)\n",
    "    \n",
    "    def __str__(self):\n",
    "        return \"BinaryTree <{}>\".format(self.to_tuple())\n",
    "    \n",
    "    def __repr__(self):\n",
    "        return \"BinaryTree <{}>\".format(self.to_tuple())\n",
    "    \n",
    "    @staticmethod    \n",
    "    def parse_tuple(data):\n",
    "        if data is None:\n",
    "            node = None\n",
    "        elif isinstance(data, tuple) and len(data) == 3:\n",
    "            node = TreeNode(data[1])\n",
    "            node.left = TreeNode.parse_tuple(data[0])\n",
    "            node.right = TreeNode.parse_tuple(data[2])\n",
    "        else:\n",
    "            node = TreeNode(data)\n",
    "        return node"
   ]
  },
  {
   "cell_type": "code",
   "execution_count": 130,
   "metadata": {},
   "outputs": [],
   "source": [
    "def remove_none(nums):\n",
    "    return [x for x in nums if x is not None]\n",
    "\n",
    "def is_bst(node):\n",
    "    if node is None:\n",
    "        return True, None, None\n",
    "    \n",
    "    is_bst_l, min_l, max_l = is_bst(node.left)\n",
    "    is_bst_r, min_r, max_r = is_bst(node.right)\n",
    "    \n",
    "    is_bst_node = (is_bst_l and is_bst_r and \n",
    "              (max_l is None or node.key > max_l) and \n",
    "              (min_r is None or node.key < min_r))\n",
    "    \n",
    "    min_key = min(remove_none([min_l, node.key, min_r]))\n",
    "    max_key = max(remove_none([max_l, node.key, max_r]))\n",
    "    \n",
    "    # print(node.key, min_key, max_key, is_bst_node)\n",
    "        \n",
    "    return is_bst_node, min_key, max_key"
   ]
  },
  {
   "cell_type": "code",
   "execution_count": 131,
   "metadata": {},
   "outputs": [],
   "source": [
    "class BSTNode():\n",
    "    def __init__(self, key, value=None):\n",
    "        self.key = key\n",
    "        self.value = value\n",
    "        self.left = None\n",
    "        self.right = None\n",
    "        self.parent = None"
   ]
  },
  {
   "cell_type": "code",
   "execution_count": 132,
   "metadata": {},
   "outputs": [],
   "source": [
    "tree = BSTNode(jadhesh.username,jadhesh)"
   ]
  },
  {
   "cell_type": "code",
   "execution_count": 133,
   "metadata": {},
   "outputs": [
    {
     "data": {
      "text/plain": [
       "<__main__.BSTNode at 0x755c2e9f3d00>"
      ]
     },
     "execution_count": 133,
     "metadata": {},
     "output_type": "execute_result"
    }
   ],
   "source": [
    "tree.left = BSTNode(biraj.username, biraj)\n",
    "tree.left.parent = tree\n",
    "tree.right = BSTNode(sonaksh.username, sonaksh)\n",
    "tree"
   ]
  },
  {
   "cell_type": "code",
   "execution_count": 134,
   "metadata": {},
   "outputs": [],
   "source": [
    "def display_keys(node, space='\\t', level=0):\n",
    "    # print(node.key if node else None, level)\n",
    "    \n",
    "    # If the node is empty\n",
    "    if node is None:\n",
    "        print(space*level + '∅')\n",
    "        return   \n",
    "    \n",
    "    # If the node is a leaf \n",
    "    if node.left is None and node.right is None:\n",
    "        print(space*level + str(node.key))\n",
    "        return\n",
    "    \n",
    "    # If the node has children\n",
    "    display_keys(node.right, space, level+1)\n",
    "    print(space*level + str(node.key))\n",
    "    display_keys(node.left,space, level+1)   "
   ]
  },
  {
   "cell_type": "code",
   "execution_count": 135,
   "metadata": {},
   "outputs": [
    {
     "name": "stdout",
     "output_type": "stream",
     "text": [
      "\tsonaksh\n",
      "jadhesh\n",
      "\tbiraj\n"
     ]
    }
   ],
   "source": [
    "display_keys(tree)"
   ]
  },
  {
   "cell_type": "code",
   "execution_count": 136,
   "metadata": {},
   "outputs": [],
   "source": [
    "tree.left.left = BSTNode(aakash.username, aakash)\n",
    "tree.left.left.parent = tree.left\n",
    "tree.left.right = BSTNode(hemanth.username, hemanth)\n"
   ]
  },
  {
   "cell_type": "code",
   "execution_count": 137,
   "metadata": {},
   "outputs": [
    {
     "name": "stdout",
     "output_type": "stream",
     "text": [
      "\tsonaksh\n",
      "jadhesh\n",
      "\t\themanth\n",
      "\tbiraj\n",
      "\t\taakash\n"
     ]
    }
   ],
   "source": [
    "display_keys(tree)"
   ]
  },
  {
   "cell_type": "code",
   "execution_count": 138,
   "metadata": {},
   "outputs": [],
   "source": [
    "tree.right.right = BSTNode(vishal.username, vishal)\n",
    "tree.right.right.parent = BSTNode(tree.right)\n",
    "tree.right.left = BSTNode(siddhant.username, siddhant)"
   ]
  },
  {
   "cell_type": "code",
   "execution_count": 139,
   "metadata": {},
   "outputs": [
    {
     "name": "stdout",
     "output_type": "stream",
     "text": [
      "\t\tvishal\n",
      "\tsonaksh\n",
      "\t\tsiddhant\n",
      "jadhesh\n",
      "\t\themanth\n",
      "\tbiraj\n",
      "\t\taakash\n"
     ]
    }
   ],
   "source": [
    "display_keys(tree)"
   ]
  },
  {
   "cell_type": "code",
   "execution_count": 140,
   "metadata": {},
   "outputs": [],
   "source": [
    "def insert(node, key, value):\n",
    "    if node is None:\n",
    "        node = BSTNode(key, value)\n",
    "    elif key < node.key:\n",
    "        node.left = insert(node.left, key, value)\n",
    "        node.left.parent = node\n",
    "    elif key > node.key:\n",
    "        node.right = insert(node.right, key, value)\n",
    "        node.right.parent = node\n",
    "    return node"
   ]
  },
  {
   "cell_type": "code",
   "execution_count": 141,
   "metadata": {},
   "outputs": [],
   "source": [
    "tree = insert(None, jadhesh.username, jadhesh)"
   ]
  },
  {
   "cell_type": "code",
   "execution_count": 142,
   "metadata": {},
   "outputs": [
    {
     "data": {
      "text/plain": [
       "<__main__.BSTNode at 0x755c2e9f39a0>"
      ]
     },
     "execution_count": 142,
     "metadata": {},
     "output_type": "execute_result"
    }
   ],
   "source": [
    "insert(tree, biraj.username, biraj)\n",
    "insert(tree, sonaksh.username, sonaksh)\n",
    "insert(tree, aakash.username, aakash)\n",
    "insert(tree, hemanth.username, hemanth)\n",
    "insert(tree, siddhant.username, siddhant)\n",
    "insert(tree, vishal.username, siddhant)"
   ]
  },
  {
   "cell_type": "code",
   "execution_count": 143,
   "metadata": {},
   "outputs": [
    {
     "name": "stdout",
     "output_type": "stream",
     "text": [
      "\t\tvishal\n",
      "\tsonaksh\n",
      "\t\tsiddhant\n",
      "jadhesh\n",
      "\t\themanth\n",
      "\tbiraj\n",
      "\t\taakash\n"
     ]
    }
   ],
   "source": [
    "display_keys(tree)"
   ]
  },
  {
   "cell_type": "code",
   "execution_count": 144,
   "metadata": {},
   "outputs": [],
   "source": [
    "def find(node, key):\n",
    "    if node is None:\n",
    "        return None\n",
    "    if key == node.key:\n",
    "        return node\n",
    "    if key < node.key:\n",
    "        return find(node.left, key)\n",
    "    if key > node.key:\n",
    "        return find(node.right, key)"
   ]
  },
  {
   "cell_type": "code",
   "execution_count": 145,
   "metadata": {},
   "outputs": [],
   "source": [
    "node = find(tree, 'hemanth')"
   ]
  },
  {
   "cell_type": "code",
   "execution_count": 146,
   "metadata": {},
   "outputs": [
    {
     "name": "stdout",
     "output_type": "stream",
     "text": [
      "User created!\n",
      "User created!\n",
      "User created!\n",
      "User created!\n",
      "User created!\n",
      "User created!\n",
      "User created!\n"
     ]
    }
   ],
   "source": [
    "juan = User('juan', 'Juan Perez', 'juan@example.com')\n",
    "maria = User('maria', 'Maria Garcia', 'maria@example.com')\n",
    "carlos = User('carlos', 'Carlos Rodriguez', 'carlos@example.com')\n",
    "ana = User('ana', 'Ana Martinez', 'ana@example.com')\n",
    "jose = User('jose', 'Jose Hernandez', 'jose@example.com')\n",
    "carmen = User('carmen', 'Carmen Lopez', 'carmen@example.com')\n",
    "ricardo = User('ricardo', 'Ricardo Gonzalez', 'ricardo@example.com')"
   ]
  },
  {
   "cell_type": "code",
   "execution_count": 147,
   "metadata": {},
   "outputs": [
    {
     "data": {
      "text/plain": [
       "<__main__.BSTNode at 0x755c2e9f39a0>"
      ]
     },
     "execution_count": 147,
     "metadata": {},
     "output_type": "execute_result"
    }
   ],
   "source": [
    "insert(tree, juan.username, juan)\n",
    "insert(tree, maria.username, maria)\n",
    "insert(tree, carlos.username, carlos)\n",
    "insert(tree, ana.username,ana)\n",
    "insert(tree, jose.username, jose)\n",
    "insert(tree, carmen.username,carmen)\n",
    "insert(tree, ricardo.username, ricardo)"
   ]
  },
  {
   "cell_type": "code",
   "execution_count": 148,
   "metadata": {},
   "outputs": [
    {
     "name": "stdout",
     "output_type": "stream",
     "text": [
      "\t\tvishal\n",
      "\tsonaksh\n",
      "\t\t\t∅\n",
      "\t\tsiddhant\n",
      "\t\t\t\t\tricardo\n",
      "\t\t\t\tmaria\n",
      "\t\t\t\t\t∅\n",
      "\t\t\tjuan\n",
      "\t\t\t\tjose\n",
      "jadhesh\n",
      "\t\t\t∅\n",
      "\t\themanth\n",
      "\t\t\t\tcarmen\n",
      "\t\t\tcarlos\n",
      "\t\t\t\t∅\n",
      "\tbiraj\n",
      "\t\t\tana\n",
      "\t\taakash\n",
      "\t\t\t∅\n"
     ]
    }
   ],
   "source": [
    "display_keys(tree)"
   ]
  },
  {
   "cell_type": "code",
   "execution_count": null,
   "metadata": {},
   "outputs": [],
   "source": []
  }
 ],
 "metadata": {
  "kernelspec": {
   "display_name": "Python 3",
   "language": "python",
   "name": "python3"
  },
  "language_info": {
   "codemirror_mode": {
    "name": "ipython",
    "version": 3
   },
   "file_extension": ".py",
   "mimetype": "text/x-python",
   "name": "python",
   "nbconvert_exporter": "python",
   "pygments_lexer": "ipython3",
   "version": "3.10.12"
  }
 },
 "nbformat": 4,
 "nbformat_minor": 2
}
