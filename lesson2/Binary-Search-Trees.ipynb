{
 "cells": [
  {
   "cell_type": "code",
   "execution_count": 1,
   "metadata": {},
   "outputs": [],
   "source": [
    "class User:\n",
    "    pass"
   ]
  },
  {
   "cell_type": "code",
   "execution_count": 2,
   "metadata": {},
   "outputs": [],
   "source": [
    "user1 = User()"
   ]
  },
  {
   "cell_type": "code",
   "execution_count": 3,
   "metadata": {},
   "outputs": [
    {
     "data": {
      "text/plain": [
       "<__main__.User at 0x77383829a2f0>"
      ]
     },
     "execution_count": 3,
     "metadata": {},
     "output_type": "execute_result"
    }
   ],
   "source": [
    "user1"
   ]
  },
  {
   "cell_type": "code",
   "execution_count": 4,
   "metadata": {},
   "outputs": [],
   "source": [
    "class User:\n",
    "    def __init__(self, username, name, email):\n",
    "        self.username = username\n",
    "        self.name = name\n",
    "        self.email = email\n",
    "        print('User created!')"
   ]
  },
  {
   "cell_type": "code",
   "execution_count": 5,
   "metadata": {},
   "outputs": [
    {
     "name": "stdout",
     "output_type": "stream",
     "text": [
      "User created!\n"
     ]
    }
   ],
   "source": [
    "user2 = User('jonh', 'Jonh Doe', 'jonh@doe.com')"
   ]
  },
  {
   "cell_type": "code",
   "execution_count": 6,
   "metadata": {},
   "outputs": [
    {
     "data": {
      "text/plain": [
       "<__main__.User at 0x773838298a60>"
      ]
     },
     "execution_count": 6,
     "metadata": {},
     "output_type": "execute_result"
    }
   ],
   "source": [
    "user2"
   ]
  },
  {
   "cell_type": "code",
   "execution_count": 11,
   "metadata": {},
   "outputs": [],
   "source": [
    "class User:\n",
    "    def __init__(self, username, name, email):\n",
    "        self.username = username\n",
    "        self.name = name\n",
    "        self.email = email\n",
    "        print('User created!')\n",
    "    def introduce_yourselft(self, guest_name):\n",
    "        print(\"Hi {}, I'm {}! Contact me at {}\".format(guest_name, self.name, self.email))"
   ]
  },
  {
   "cell_type": "code",
   "execution_count": 12,
   "metadata": {},
   "outputs": [
    {
     "name": "stdout",
     "output_type": "stream",
     "text": [
      "User created!\n"
     ]
    }
   ],
   "source": [
    "user3 = User('jane', 'Jane Doe', 'jane@doe.com')"
   ]
  },
  {
   "cell_type": "code",
   "execution_count": 13,
   "metadata": {},
   "outputs": [
    {
     "name": "stdout",
     "output_type": "stream",
     "text": [
      "Hi David, I'm Jane Doe! Contact me at jane@doe.com\n"
     ]
    }
   ],
   "source": [
    "user3.introduce_yourselft('David')"
   ]
  },
  {
   "cell_type": "code",
   "execution_count": 33,
   "metadata": {},
   "outputs": [],
   "source": [
    "class User:\n",
    "    def __init__(self, username, name, email):\n",
    "        self.username = username\n",
    "        self.name = name\n",
    "        self.email = email\n",
    "        print('User created!')\n",
    "        \n",
    "    def __str__(self):\n",
    "        return self.username()\n",
    "    \n",
    "    def __repr__(self):\n",
    "        return \"User(username='{}', name='{}', email='{}')\".format(self.username, self.name, self.email)"
   ]
  },
  {
   "cell_type": "code",
   "execution_count": 34,
   "metadata": {},
   "outputs": [
    {
     "name": "stdout",
     "output_type": "stream",
     "text": [
      "User created!\n"
     ]
    }
   ],
   "source": [
    "user4 = User('ane', 'Ane Futher', 'anefuther@as.com')"
   ]
  },
  {
   "cell_type": "code",
   "execution_count": 35,
   "metadata": {},
   "outputs": [
    {
     "data": {
      "text/plain": [
       "User(username='ane', name='Ane Futher', email='anefuther@as.com')"
      ]
     },
     "execution_count": 35,
     "metadata": {},
     "output_type": "execute_result"
    }
   ],
   "source": [
    "user4"
   ]
  },
  {
   "cell_type": "markdown",
   "metadata": {},
   "source": [
    "Exercise: What is the purpose of defining the functions __str__ and __repr__ within a class? \n",
    "How are the two functions different? Illustrate with some examples using the empty cells below.\n"
   ]
  },
  {
   "cell_type": "markdown",
   "metadata": {},
   "source": [
    "---"
   ]
  },
  {
   "cell_type": "markdown",
   "metadata": {},
   "source": [
    "the funtion __repr__ will print the return in the output of user4\n",
    "but i don't have completly understand the __str__ meaning but when is called with the print function it will print the return of __str__"
   ]
  },
  {
   "cell_type": "code",
   "execution_count": 37,
   "metadata": {},
   "outputs": [],
   "source": [
    "class UserDataBase:\n",
    "    def insert(self, user):\n",
    "        pass\n",
    "    \n",
    "    def find(self, username):\n",
    "        pass\n",
    "    \n",
    "    def update(self, user):\n",
    "        pass\n",
    "    \n",
    "    def list_all(self):\n",
    "        self"
   ]
  },
  {
   "cell_type": "code",
   "execution_count": 38,
   "metadata": {},
   "outputs": [
    {
     "name": "stdout",
     "output_type": "stream",
     "text": [
      "User created!\n",
      "User created!\n",
      "User created!\n",
      "User created!\n",
      "User created!\n",
      "User created!\n",
      "User created!\n"
     ]
    }
   ],
   "source": [
    "aakash = User('aakash', 'Aakash Rai', 'aakash@example.com')\n",
    "biraj = User('biraj', 'Biraj Das', 'biraj@example.com')\n",
    "hemanth = User('hemanth', 'Hemanth Jain', 'hemanth@example.com')\n",
    "jadhesh = User('jadhesh', 'Jadhesh Verma', 'jadhesh@example.com')\n",
    "siddhant = User('siddhant', 'Siddhant Sinha', 'siddhant@example.com')\n",
    "sonaksh = User('sonaksh', 'Sonaksh Kumar', 'sonaksh@example.com')\n",
    "vishal = User('vishal', 'Vishal Goel', 'vishal@example.com')"
   ]
  },
  {
   "cell_type": "code",
   "execution_count": 39,
   "metadata": {},
   "outputs": [],
   "source": [
    "users = [aakash, biraj, hemanth, jadhesh, siddhant, sonaksh, vishal]"
   ]
  },
  {
   "cell_type": "code",
   "execution_count": null,
   "metadata": {},
   "outputs": [],
   "source": []
  },
  {
   "cell_type": "code",
   "execution_count": null,
   "metadata": {},
   "outputs": [],
   "source": []
  }
 ],
 "metadata": {
  "kernelspec": {
   "display_name": "Python 3",
   "language": "python",
   "name": "python3"
  },
  "language_info": {
   "codemirror_mode": {
    "name": "ipython",
    "version": 3
   },
   "file_extension": ".py",
   "mimetype": "text/x-python",
   "name": "python",
   "nbconvert_exporter": "python",
   "pygments_lexer": "ipython3",
   "version": "3.10.12"
  }
 },
 "nbformat": 4,
 "nbformat_minor": 2
}
