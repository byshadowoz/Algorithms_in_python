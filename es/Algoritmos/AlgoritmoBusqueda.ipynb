{
 "cells": [
  {
   "cell_type": "markdown",
   "metadata": {},
   "source": [
    "# Algoritmo de Busqueda Lineal"
   ]
  },
  {
   "cell_type": "markdown",
   "metadata": {},
   "source": [
    "En simples palabras el algoritmo de busqueda lineal es un algoritmo donde para llegar a lo que buscamos debemos de iterar por todos los elementos anteriores antes de llegar al elemento buscado"
   ]
  },
  {
   "cell_type": "markdown",
   "metadata": {},
   "source": [
    "## Problema 1\n",
    "***\n",
    "Te dan una lista de enteros y una variable con un numero\n",
    "tu mision es encontrar ese numero, uno de los algoritmos basicos que te puede ayudar en esto es el algoritmo lineal donde vamos a iterar por cada elemento de la lista hasta encontrar el indice en donde se encuentra ese numero"
   ]
  },
  {
   "cell_type": "code",
   "execution_count": null,
   "metadata": {},
   "outputs": [],
   "source": [
    "import random # libreria para crear una lista con valores aleatorios\n",
    "lista = [random.randint(0,100) for i in range(0,100)]\n",
    "numero = random.randint(0,100)"
   ]
  },
  {
   "cell_type": "code",
   "execution_count": null,
   "metadata": {},
   "outputs": [],
   "source": [
    "print(lista)\n",
    "print(numero)"
   ]
  },
  {
   "cell_type": "markdown",
   "metadata": {},
   "source": [
    "## Algoritmo Lineal"
   ]
  },
  {
   "cell_type": "code",
   "execution_count": null,
   "metadata": {},
   "outputs": [],
   "source": [
    "def Lineal(lista,numero): # colocamos de parametros la lista y el numero a buscar\n",
    "    for i in range(len(lista)): # recorremos la lista\n",
    "        if lista[i] == numero:\n",
    "            return i # retornamos la posicion del numero "
   ]
  },
  {
   "cell_type": "code",
   "execution_count": null,
   "metadata": {},
   "outputs": [],
   "source": [
    "Lineal(lista,numero)"
   ]
  },
  {
   "cell_type": "markdown",
   "metadata": {},
   "source": [
    "Tambien lo podemos hacer de esta forma:"
   ]
  },
  {
   "cell_type": "code",
   "execution_count": null,
   "metadata": {},
   "outputs": [],
   "source": [
    "def lineal2(lista, numero):\n",
    "    i = 0\n",
    "    while i < len(lista):\n",
    "        if lista[i] == numero:\n",
    "            return i\n",
    "        else: i += 1"
   ]
  },
  {
   "cell_type": "markdown",
   "metadata": {},
   "source": [
    "#### A medida que la lista aumenta de largo entonces el tiempo para encontrar el numero tambien aumenta es decir que tiene una complejidad lineal **O(n)** donde en el peor de los casos n es el numero de veces que el algoritmo va a iterar para llegar al numero buscado"
   ]
  },
  {
   "cell_type": "markdown",
   "metadata": {},
   "source": [
    "# Algorimo de Busqueda Binaria"
   ]
  },
  {
   "cell_type": "markdown",
   "metadata": {},
   "source": [
    "el algoritmo de busqueda binaria se utiliza en estructuras de datos ordenadas ya que su funcion es iniciar desde un punto medio y analizar si el elemento que busca es menor o mayor que el elemento que tiene a la derecha "
   ]
  },
  {
   "cell_type": "markdown",
   "metadata": {},
   "source": [
    "## Problema 2"
   ]
  },
  {
   "cell_type": "markdown",
   "metadata": {},
   "source": [
    "te dan una lista ordenada con n numeros y te piden hallar un numero en especifico, en este caso te piden que el algoritmo sea lo suficientemente eficiente para que tenga una complejidad menor a O(n).\n",
    "si el numero existe en la lista retorna la posicion de donde se encuentra el numero en la lista, si no existe retorna -1 indicando que no existe"
   ]
  },
  {
   "cell_type": "markdown",
   "metadata": {},
   "source": [
    "## Creamos el algoritmo de busqueda binaria:"
   ]
  },
  {
   "cell_type": "code",
   "execution_count": 2,
   "metadata": {},
   "outputs": [],
   "source": [
    "def busquedaB(lista, num):\n",
    "    lo = 0 # indica la posicion mas a la izquierda\n",
    "    hi = len(lista) - 1 # indica la posicion mas a la derecha\n",
    "    while lo <= hi:\n",
    "        mid = (lo + hi) // 2 # calcula la posicion del elemento medio\n",
    "        if lista[mid] == num:\n",
    "            return mid # nos aseguramos si mid es igual a num \n",
    "        elif lista[mid] < num:\n",
    "            lo = mid + 1 # llevamos la posicion lo hasta el medio ya que num no se encuentra entre lo y mid \n",
    "        elif lista[mid] > num:\n",
    "            hi = mid -1 # llevamos la posicion hi hasta el media ya que num no se encuentra entre hi y mid     \n",
    "    return -1 # si no se encuentra el elemento en la lista\n",
    "        \n"
   ]
  },
  {
   "cell_type": "code",
   "execution_count": 3,
   "metadata": {},
   "outputs": [
    {
     "data": {
      "text/plain": [
       "-1"
      ]
     },
     "execution_count": 3,
     "metadata": {},
     "output_type": "execute_result"
    }
   ],
   "source": [
    "lista = [x for x in range(1,1000, 2)]\n",
    "num = random.randint(1,1000)\n",
    "\n",
    "busquedaB(lista,num)"
   ]
  },
  {
   "cell_type": "markdown",
   "metadata": {},
   "source": [
    "## Comparacion:"
   ]
  },
  {
   "cell_type": "markdown",
   "metadata": {},
   "source": [
    "vamos hacer una comparacion entre el algoritmo de busqueda binaria y de busqueda lineal para observar la diferencia de tiempo que estas tienen"
   ]
  },
  {
   "cell_type": "code",
   "execution_count": 4,
   "metadata": {},
   "outputs": [],
   "source": [
    "def lineal(lista,numero): # creamos el algoritmo a comparar\n",
    "    for i in range(len(lista)):\n",
    "        if lista[i] == numero:\n",
    "            return i\n",
    "        "
   ]
  },
  {
   "cell_type": "code",
   "execution_count": 5,
   "metadata": {},
   "outputs": [],
   "source": [
    "\n",
    "lista = [x for x in range(0,200000000)]# un poco de peligro, reducir el numero si es necesario \n",
    "num = random.randint(0,200000000)"
   ]
  },
  {
   "cell_type": "markdown",
   "metadata": {},
   "source": [
    "**comparacion:**"
   ]
  },
  {
   "cell_type": "code",
   "execution_count": 6,
   "metadata": {},
   "outputs": [
    {
     "name": "stdout",
     "output_type": "stream",
     "text": [
      "CPU times: user 6.18 s, sys: 1.19 ms, total: 6.18 s\n",
      "Wall time: 6.18 s\n"
     ]
    },
    {
     "data": {
      "text/plain": [
       "189942920"
      ]
     },
     "execution_count": 6,
     "metadata": {},
     "output_type": "execute_result"
    }
   ],
   "source": [
    "%%time\n",
    "lineal(lista,num)\n"
   ]
  },
  {
   "cell_type": "code",
   "execution_count": 7,
   "metadata": {},
   "outputs": [
    {
     "name": "stdout",
     "output_type": "stream",
     "text": [
      "CPU times: user 12 µs, sys: 5 µs, total: 17 µs\n",
      "Wall time: 19.8 µs\n"
     ]
    },
    {
     "data": {
      "text/plain": [
       "189942920"
      ]
     },
     "execution_count": 7,
     "metadata": {},
     "output_type": "execute_result"
    }
   ],
   "source": [
    "%%time\n",
    "busquedaB(lista,num)"
   ]
  },
  {
   "cell_type": "markdown",
   "metadata": {},
   "source": [
    "Esta gran diferencia se debe a la forma de buscar elementos y su complejidad algoritmica.\n",
    "en la busqueda lineal lo que se hace es iterar por cada uno de los elementos de la lista hasta llegar al correcto lo cual le da una complejidad de O(n).\n",
    "mientras que en la busqueda binaria se itera de izquierda a derecha si el elemento es mayor o menor al elemento del medio lo cual le da una complejidad de O(log n)"
   ]
  },
  {
   "cell_type": "markdown",
   "metadata": {},
   "source": []
  }
 ],
 "metadata": {
  "kernelspec": {
   "display_name": "Python 3",
   "language": "python",
   "name": "python3"
  },
  "language_info": {
   "codemirror_mode": {
    "name": "ipython",
    "version": 3
   },
   "file_extension": ".py",
   "mimetype": "text/x-python",
   "name": "python",
   "nbconvert_exporter": "python",
   "pygments_lexer": "ipython3",
   "version": "3.10.12"
  }
 },
 "nbformat": 4,
 "nbformat_minor": 2
}
