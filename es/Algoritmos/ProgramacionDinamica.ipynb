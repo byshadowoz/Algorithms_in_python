{
 "cells": [
  {
   "cell_type": "markdown",
   "metadata": {},
   "source": [
    "# Programacion dinamica"
   ]
  },
  {
   "cell_type": "markdown",
   "metadata": {},
   "source": [
    "***\n",
    "La programacion dinamica es una forma de resolver problemas de una manera optima.\n",
    "Su forma de hacerlo puede recordar a el principio de divide y venceras y a pesar que de lo hacen de forma parecida estos tienen diferencias donde la programacion dinamica busca la optimizacion del problema general mientras que divide an conquer busca resolver los subproblemas de manera eficiente sin enfocarse tanto en la solucion optima global"
   ]
  },
  {
   "cell_type": "markdown",
   "metadata": {},
   "source": [
    "## Ejemplo:\n",
    "***\n",
    "Veremos dos casos de fibonacci\n",
    "el primero sera usando el principio divide y venceras\n",
    "y el segundo usando programacion dinamica"
   ]
  },
  {
   "cell_type": "code",
   "execution_count": 3,
   "metadata": {},
   "outputs": [
    {
     "name": "stdout",
     "output_type": "stream",
     "text": [
      "CPU times: user 12.4 s, sys: 9.74 ms, total: 12.4 s\n",
      "Wall time: 12.4 s\n"
     ]
    },
    {
     "data": {
      "text/plain": [
       "165580141"
      ]
     },
     "execution_count": 3,
     "metadata": {},
     "output_type": "execute_result"
    }
   ],
   "source": [
    "%%time\n",
    "#divide y venceras:\n",
    "def fibo(n):\n",
    "    if n <= 2:\n",
    "        return n\n",
    "    else: \n",
    "        return fibo(n-1) + fibo(n-2)\n",
    "fibo(40)"
   ]
  },
  {
   "cell_type": "code",
   "execution_count": 5,
   "metadata": {},
   "outputs": [
    {
     "name": "stdout",
     "output_type": "stream",
     "text": [
      "CPU times: user 45 µs, sys: 0 ns, total: 45 µs\n",
      "Wall time: 47.7 µs\n"
     ]
    },
    {
     "data": {
      "text/plain": [
       "165580141"
      ]
     },
     "execution_count": 5,
     "metadata": {},
     "output_type": "execute_result"
    }
   ],
   "source": [
    "%%time\n",
    "#Progamacion dinamica\n",
    "MAX_N = 1000\n",
    "f = [-1 for i in range(MAX_N)]\n",
    "\n",
    "def fib(n):\n",
    "\tif n < 2: return 1\n",
    "\tif f[n] != -1: return f[n]\n",
    "\n",
    "\tf[n] = fib(n-1) + fib(n-2)\n",
    "\treturn f[n]\n",
    "fib(5)"
   ]
  },
  {
   "cell_type": "code",
   "execution_count": null,
   "metadata": {},
   "outputs": [],
   "source": []
  }
 ],
 "metadata": {
  "kernelspec": {
   "display_name": "Python 3",
   "language": "python",
   "name": "python3"
  },
  "language_info": {
   "codemirror_mode": {
    "name": "ipython",
    "version": 3
   },
   "file_extension": ".py",
   "mimetype": "text/x-python",
   "name": "python",
   "nbconvert_exporter": "python",
   "pygments_lexer": "ipython3",
   "version": "3.10.12"
  }
 },
 "nbformat": 4,
 "nbformat_minor": 2
}
