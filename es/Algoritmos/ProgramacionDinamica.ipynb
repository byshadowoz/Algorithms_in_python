{
 "cells": [
  {
   "cell_type": "markdown",
   "metadata": {},
   "source": [
    "# Programacion dinamica"
   ]
  },
  {
   "cell_type": "markdown",
   "metadata": {},
   "source": [
    "***\n",
    "La programacion dinamica es una forma de resolver problemas de una manera optima.\n",
    "Su forma de hacerlo puede recordar a el principio de divide y venceras y a pesar que de lo hacen de forma parecida estos tienen diferencias donde la programacion dinamica busca la optimizacion del problema general mientras que divide an conquer busca resolver los subproblemas de manera eficiente sin enfocarse tanto en la solucion optima global"
   ]
  },
  {
   "cell_type": "markdown",
   "metadata": {},
   "source": [
    "## Ejemplo:\n",
    "***\n",
    "Veremos dos casos de fibonacci\n",
    "el primero sera usando el principio divide y venceras\n",
    "y el segundo usando programacion dinamica"
   ]
  },
  {
   "cell_type": "code",
   "execution_count": 4,
   "metadata": {},
   "outputs": [
    {
     "name": "stdout",
     "output_type": "stream",
     "text": [
      "CPU times: user 12.4 s, sys: 3.99 ms, total: 12.5 s\n",
      "Wall time: 12.5 s\n"
     ]
    },
    {
     "data": {
      "text/plain": [
       "165580141"
      ]
     },
     "execution_count": 4,
     "metadata": {},
     "output_type": "execute_result"
    }
   ],
   "source": [
    "%%time\n",
    "#divide y venceras:\n",
    "def fibo(n):\n",
    "    if n <= 2:\n",
    "        return n\n",
    "    else: \n",
    "        return fibo(n-1) + fibo(n-2)\n",
    "fiboo(40)"
   ]
  },
  {
   "cell_type": "code",
   "execution_count": 1,
   "metadata": {},
   "outputs": [
    {
     "ename": "SyntaxError",
     "evalue": "invalid syntax (<unknown>, line 9)",
     "output_type": "error",
     "traceback": [
      "Traceback \u001b[0;36m(most recent call last)\u001b[0m:\n",
      "\u001b[0m  File \u001b[1;32m~/.local/lib/python3.10/site-packages/IPython/core/interactiveshell.py:3577\u001b[0m in \u001b[1;35mrun_code\u001b[0m\n    exec(code_obj, self.user_global_ns, self.user_ns)\u001b[0m\n",
      "\u001b[0m  Cell \u001b[1;32mIn[1], line 1\u001b[0m\n    get_ipython().run_cell_magic('time', '', '#Progamacion dinamica\\nMAX_N = 1000\\nf = [-1 for i in range(MAX_N)]\\n\\ndef fibo(n):\\n\\tif n < 2: return 1\\n\\tif f[n] != -1: return f[n]\\n\\n\\tf[n] = fibo(n-1) fibo(n-2)\\n\\treturn f[n]\\nfibo(40)\\n')\u001b[0m\n",
      "\u001b[0m  File \u001b[1;32m~/.local/lib/python3.10/site-packages/IPython/core/interactiveshell.py:2541\u001b[0m in \u001b[1;35mrun_cell_magic\u001b[0m\n    result = fn(*args, **kwargs)\u001b[0m\n",
      "\u001b[0m  File \u001b[1;32m~/.local/lib/python3.10/site-packages/IPython/core/magics/execution.py:1296\u001b[0m in \u001b[1;35mtime\u001b[0m\n    expr_ast = self.shell.compile.ast_parse(expr)\u001b[0m\n",
      "\u001b[0;36m  File \u001b[0;32m~/.local/lib/python3.10/site-packages/IPython/core/compilerop.py:86\u001b[0;36m in \u001b[0;35mast_parse\u001b[0;36m\n\u001b[0;31m    return compile(source, filename, symbol, self.flags | PyCF_ONLY_AST, 1)\u001b[0;36m\n",
      "\u001b[0;36m  File \u001b[0;32m<unknown>:9\u001b[0;36m\u001b[0m\n\u001b[0;31m    f[n] = fibo(n-1) fibo(n-2)\u001b[0m\n\u001b[0m                     ^\u001b[0m\n\u001b[0;31mSyntaxError\u001b[0m\u001b[0;31m:\u001b[0m invalid syntax\n"
     ]
    }
   ],
   "source": [
    "%%time\n",
    "#Progamacion dinamica\n",
    "MAX_N = 1000\n",
    "f = [-1 for i in range(MAX_N)]\n",
    "\n",
    "def fibo(n):\n",
    "\tif n < 2: return 1\n",
    "\tif f[n] != -1: return f[n]\n",
    "\n",
    "\tf[n] = fibo(n-1) fibo(n-2)\n",
    "\treturn f[n]\n",
    "fibo(40)"
   ]
  },
  {
   "cell_type": "code",
   "execution_count": null,
   "metadata": {},
   "outputs": [],
   "source": []
  }
 ],
 "metadata": {
  "kernelspec": {
   "display_name": "Python 3",
   "language": "python",
   "name": "python3"
  },
  "language_info": {
   "codemirror_mode": {
    "name": "ipython",
    "version": 3
   },
   "file_extension": ".py",
   "mimetype": "text/x-python",
   "name": "python",
   "nbconvert_exporter": "python",
   "pygments_lexer": "ipython3",
   "version": "3.10.12"
  }
 },
 "nbformat": 4,
 "nbformat_minor": 2
}
