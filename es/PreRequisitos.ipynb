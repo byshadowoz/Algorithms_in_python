{
 "cells": [
  {
   "cell_type": "markdown",
   "metadata": {},
   "source": [
    "# Antes de empezar a ver como funcionan los algoritmos hemos de saber algunos prerequisitos para lograr mayor entendimiento de estos"
   ]
  },
  {
   "cell_type": "markdown",
   "metadata": {},
   "source": [
    "## Estructura de Datos"
   ]
  },
  {
   "cell_type": "markdown",
   "metadata": {},
   "source": [
    "### Metodos"
   ]
  },
  {
   "cell_type": "code",
   "execution_count": 1,
   "metadata": {},
   "outputs": [],
   "source": [
    "#supongamos que tenemos la lista 'a' donde existen valores enteros del 1 al 10 en orden ascendiente\n",
    "a = [1,2,3,4,5,6,7,8,9,10]\n",
    "# si queremos ingresar otros datos tenemos los metodos append(), insert() y extend()\n"
   ]
  },
  {
   "cell_type": "code",
   "execution_count": 2,
   "metadata": {},
   "outputs": [
    {
     "data": {
      "text/plain": [
       "[1, 2, 3, 4, 5, 6, 7, 8, 9, 10, 11]"
      ]
     },
     "execution_count": 2,
     "metadata": {},
     "output_type": "execute_result"
    }
   ],
   "source": [
    "# append() agrega un elemento al final de la lista\n",
    "a.append(11)#simplemente pide un argumento el cual es el valor a ingresar\n",
    "a"
   ]
  },
  {
   "cell_type": "code",
   "execution_count": 3,
   "metadata": {},
   "outputs": [
    {
     "data": {
      "text/plain": [
       "[1, 2, 3, 4, 5, 6, 7, 8, 9, 10, 11, 12]"
      ]
     },
     "execution_count": 3,
     "metadata": {},
     "output_type": "execute_result"
    }
   ],
   "source": [
    "# insert() requiere de dos argumentos, la posicion y el valor\n",
    "a.insert(11, 12) #aqui estos colocando en la posicion 11 y el valor 12\n",
    "a"
   ]
  },
  {
   "cell_type": "code",
   "execution_count": 4,
   "metadata": {},
   "outputs": [
    {
     "data": {
      "text/plain": [
       "[1, 2, 3, 4, 5, 6, 7, 8, 9, 10, 11, 12, 20, 21, 22, 23, 24, 25]"
      ]
     },
     "execution_count": 4,
     "metadata": {},
     "output_type": "execute_result"
    }
   ],
   "source": [
    "# extend() es un metodo  para agregar todos los datos de un iterable sea lista, tupla, diccionario o string \n",
    "b = [20,21,22,23,24,25]#nueva lista\n",
    "a.extend(b)\n",
    "a"
   ]
  },
  {
   "cell_type": "code",
   "execution_count": 5,
   "metadata": {},
   "outputs": [],
   "source": [
    "#ahora si queremos eliminar valores de nuestra lista a tenemos los metodos\n",
    "# remove(), pop() y del"
   ]
  },
  {
   "cell_type": "code",
   "execution_count": 6,
   "metadata": {},
   "outputs": [
    {
     "data": {
      "text/plain": [
       "[1, 2, 3, 4, 5, 6, 7, 8, 9, 10, 12, 20, 21, 22, 23, 24, 25]"
      ]
     },
     "execution_count": 6,
     "metadata": {},
     "output_type": "execute_result"
    }
   ],
   "source": [
    "# remove() elimina el primer valor que encuentre que sea igual a el \n",
    "# valor dado si no existe dara un error\n",
    "a.remove(11) #valor a eliminar\n",
    "a\n",
    "#a.remove(100) este imprimira un error ya que no existe  "
   ]
  },
  {
   "cell_type": "code",
   "execution_count": 7,
   "metadata": {},
   "outputs": [
    {
     "data": {
      "text/plain": [
       "[1, 2, 3, 4, 5, 6, 7, 8, 9, 10, 12, 20, 21, 22, 23, 25]"
      ]
     },
     "execution_count": 7,
     "metadata": {},
     "output_type": "execute_result"
    }
   ],
   "source": [
    "# pop() elimina el valor de la posicion dada si no existe dara error y si no le damos ningun\n",
    "# argumento eliminara el ultimo elemento de la lista, si la lista esta vacia tambien dara error\n",
    "a.pop(15)#elimina el valor de la posicion 15\n",
    "a"
   ]
  },
  {
   "cell_type": "code",
   "execution_count": 8,
   "metadata": {},
   "outputs": [
    {
     "data": {
      "text/plain": [
       "[1, 2, 12, 20, 21, 22, 23, 25]"
      ]
     },
     "execution_count": 8,
     "metadata": {},
     "output_type": "execute_result"
    }
   ],
   "source": [
    "# del elimina valores desde la posicion x hasta la posicion y siendo y mas alto que x\n",
    "del a[2:10] #eliminara los valores desde la posicion 2 hasta la posicion 9 (no elimina el valor de la posicion 10)\n",
    "a"
   ]
  },
  {
   "cell_type": "code",
   "execution_count": 9,
   "metadata": {},
   "outputs": [
    {
     "data": {
      "text/plain": [
       "3"
      ]
     },
     "execution_count": 9,
     "metadata": {},
     "output_type": "execute_result"
    }
   ],
   "source": [
    "# retorna la posicion del valor ingresado si no existe dara error \n",
    "a.index(20)# valor "
   ]
  },
  {
   "cell_type": "code",
   "execution_count": 10,
   "metadata": {},
   "outputs": [
    {
     "data": {
      "text/plain": [
       "1"
      ]
     },
     "execution_count": 10,
     "metadata": {},
     "output_type": "execute_result"
    }
   ],
   "source": [
    "# retorna la cantidad de veces que aparece el valor en la lista\n",
    "a.count(25) # valor 25 solo aparece una vez"
   ]
  },
  {
   "cell_type": "code",
   "execution_count": 11,
   "metadata": {},
   "outputs": [
    {
     "data": {
      "text/plain": [
       "[25, 23, 22, 21, 20, 12, 2, 1]"
      ]
     },
     "execution_count": 11,
     "metadata": {},
     "output_type": "execute_result"
    }
   ],
   "source": [
    "# invierte las posiciones de la lista\n",
    "a.reverse()\n",
    "a"
   ]
  },
  {
   "cell_type": "code",
   "execution_count": 12,
   "metadata": {},
   "outputs": [
    {
     "data": {
      "text/plain": [
       "[25, 23, 22, 21, 20, 12, 2, 1]"
      ]
     },
     "execution_count": 12,
     "metadata": {},
     "output_type": "execute_result"
    }
   ],
   "source": [
    "# ordena los valores segun su argumento \n",
    "a.sort(reverse=True)#True ordena de mayor a menor y viceversa\n",
    "a"
   ]
  },
  {
   "cell_type": "markdown",
   "metadata": {},
   "source": [
    "ahora tenemos una lista 'ciudades' con nombres de distintas ciudades"
   ]
  },
  {
   "cell_type": "code",
   "execution_count": 13,
   "metadata": {},
   "outputs": [],
   "source": [
    "ciudades = ['Sidney','LA','Bogota','Lima','Santiago','Buenos Aires','La Paz']"
   ]
  },
  {
   "cell_type": "code",
   "execution_count": 14,
   "metadata": {},
   "outputs": [
    {
     "data": {
      "text/plain": [
       "['Bogota', 'Buenos Aires', 'LA', 'La Paz', 'Lima', 'Santiago', 'Sidney']"
      ]
     },
     "execution_count": 14,
     "metadata": {},
     "output_type": "execute_result"
    }
   ],
   "source": [
    "#el metodo sort los agrupara por el orden alfabetico del primer caracter\n",
    "ciudades.sort()\n",
    "ciudades"
   ]
  },
  {
   "cell_type": "markdown",
   "metadata": {},
   "source": [
    "### Estructuras\n",
    "existen varios tipos de estructuras de datos, para poder entender la mayoria de los algoritmos te mostrare 10 estructuas de datos muy utilizadas en la programacion"
   ]
  },
  {
   "cell_type": "markdown",
   "metadata": {},
   "source": [
    "#### Listas\n",
    "Las listas son la estructura de datos mas sencilla en python se usa para guardar todo tipo de datos, mayormente ordenados "
   ]
  },
  {
   "cell_type": "code",
   "execution_count": 26,
   "metadata": {},
   "outputs": [
    {
     "name": "stdout",
     "output_type": "stream",
     "text": [
      "a: <class 'list'>\n",
      "b: <class 'list'>\n"
     ]
    }
   ],
   "source": [
    "# en python podemos declarar listas de distintas formas\n",
    "a = []#forma basica para declarar una lista\n",
    "b = list()#se usa mayormente cuando se necesita organizar datos que ya estan en variables\n",
    "print('a:', type(a))\n",
    "print('b:', type(b))"
   ]
  },
  {
   "cell_type": "markdown",
   "metadata": {},
   "source": [
    "con las listas tambien podemos crear loops de valores "
   ]
  },
  {
   "cell_type": "code",
   "execution_count": 30,
   "metadata": {},
   "outputs": [
    {
     "data": {
      "text/plain": [
       "[0,\n",
       " 1,\n",
       " 2,\n",
       " 3,\n",
       " 4,\n",
       " 5,\n",
       " 6,\n",
       " 7,\n",
       " 8,\n",
       " 9,\n",
       " 10,\n",
       " 11,\n",
       " 12,\n",
       " 13,\n",
       " 14,\n",
       " 15,\n",
       " 16,\n",
       " 17,\n",
       " 18,\n",
       " 19,\n",
       " 20,\n",
       " 21,\n",
       " 22,\n",
       " 23,\n",
       " 24,\n",
       " 25,\n",
       " 26,\n",
       " 27,\n",
       " 28,\n",
       " 29,\n",
       " 30,\n",
       " 31,\n",
       " 32,\n",
       " 33,\n",
       " 34,\n",
       " 35,\n",
       " 36,\n",
       " 37,\n",
       " 38,\n",
       " 39,\n",
       " 40,\n",
       " 41,\n",
       " 42,\n",
       " 43,\n",
       " 44,\n",
       " 45,\n",
       " 46,\n",
       " 47,\n",
       " 48,\n",
       " 49,\n",
       " 50,\n",
       " 51,\n",
       " 52,\n",
       " 53,\n",
       " 54,\n",
       " 55,\n",
       " 56,\n",
       " 57,\n",
       " 58,\n",
       " 59,\n",
       " 60,\n",
       " 61,\n",
       " 62,\n",
       " 63,\n",
       " 64,\n",
       " 65,\n",
       " 66,\n",
       " 67,\n",
       " 68,\n",
       " 69,\n",
       " 70,\n",
       " 71,\n",
       " 72,\n",
       " 73,\n",
       " 74,\n",
       " 75,\n",
       " 76,\n",
       " 77,\n",
       " 78,\n",
       " 79,\n",
       " 80,\n",
       " 81,\n",
       " 82,\n",
       " 83,\n",
       " 84,\n",
       " 85,\n",
       " 86,\n",
       " 87,\n",
       " 88,\n",
       " 89,\n",
       " 90,\n",
       " 91,\n",
       " 92,\n",
       " 93,\n",
       " 94,\n",
       " 95,\n",
       " 96,\n",
       " 97,\n",
       " 98,\n",
       " 99]"
      ]
     },
     "execution_count": 30,
     "metadata": {},
     "output_type": "execute_result"
    }
   ],
   "source": [
    "a = [x for x in range(0,100)]#la variable x va a iterar en el rango de 0 a 100 y terminara al llegar a 99 el 100 no lo almacena\n",
    "a"
   ]
  },
  {
   "cell_type": "markdown",
   "metadata": {},
   "source": [
    "ahora con una lista ya creada podemos encontrar sus valores mediante su posicion"
   ]
  },
  {
   "cell_type": "code",
   "execution_count": 33,
   "metadata": {},
   "outputs": [
    {
     "name": "stdout",
     "output_type": "stream",
     "text": [
      "0\n",
      "1\n",
      "2\n",
      "3\n",
      "4\n",
      "5\n",
      "6\n",
      "7\n",
      "8\n",
      "9\n",
      "10\n",
      "11\n",
      "12\n",
      "13\n",
      "14\n",
      "15\n",
      "16\n",
      "17\n",
      "18\n",
      "19\n",
      "20\n",
      "21\n",
      "22\n",
      "23\n",
      "24\n",
      "25\n",
      "26\n",
      "27\n",
      "28\n",
      "29\n",
      "30\n",
      "31\n",
      "32\n",
      "33\n",
      "34\n",
      "35\n",
      "36\n",
      "37\n",
      "38\n",
      "39\n",
      "40\n",
      "41\n",
      "42\n",
      "43\n",
      "44\n",
      "45\n",
      "46\n",
      "47\n",
      "48\n",
      "49\n",
      "50\n",
      "51\n",
      "52\n",
      "53\n",
      "54\n",
      "55\n",
      "56\n",
      "57\n",
      "58\n",
      "59\n",
      "60\n",
      "61\n",
      "62\n",
      "63\n",
      "64\n",
      "65\n",
      "66\n",
      "67\n",
      "68\n",
      "69\n",
      "70\n",
      "71\n",
      "72\n",
      "73\n",
      "74\n",
      "75\n",
      "76\n",
      "77\n",
      "78\n",
      "79\n",
      "80\n",
      "81\n",
      "82\n",
      "83\n",
      "84\n",
      "85\n",
      "86\n",
      "87\n",
      "88\n",
      "89\n",
      "90\n",
      "91\n",
      "92\n",
      "93\n",
      "94\n",
      "95\n",
      "96\n",
      "97\n",
      "98\n",
      "99\n"
     ]
    }
   ],
   "source": [
    "posicion = 0 # el primer valor de una lista siempre sera 0\n",
    "while posicion <= len(a)-1: #creamos un loop que se ejecute si posicion es menor o igual a el largo de a\n",
    "    print(a[posicion])\n",
    "    posicion += 1 # avanzamos una posicion despues de imprimir la posicion actual"
   ]
  },
  {
   "cell_type": "markdown",
   "metadata": {},
   "source": [
    "#### Tabla hash (Hashtable)\n",
    "Las tablas hash son basicamente diccionarios de python {} donde se guarda una llave-valor con esta tabla solo necesitas tener la llave para acceder al valor dentro de ella. \n",
    "Las tablas hash tambien contienen una funcion hash la cual es la que se encarga de crear una direccion para guardar los elementos en la celda de esa direccion"
   ]
  },
  {
   "cell_type": "code",
   "execution_count": 15,
   "metadata": {},
   "outputs": [],
   "source": [
    "# para crear una tabla hash podemos crear una clase\n",
    "class HashTable:\n",
    "    def __init__(self, size): #inicializamos la clase\n",
    "        self.table = [[] for _ in range(size)]  # creamos una tabla que tenga el tamaño establecido en el parametro size \n",
    "        \n",
    "    def hash_func(self, key): # esta es la que empezara la funcion hash \n",
    "        val = 0#la llave que tendra nuestro valor\n",
    "        for i in range(0,len(key)): #iteramos desde cero hasta el indice mas alto de nuestro valor\n",
    "            val += ord(key[i]) #ord es un metodo que nos devuelve el valor ascii de un caracter\n",
    "        return val % len(self.table) # divide el valor de la llave entre el tamaño de la tabla y nos devuelve el residuo de la division\n",
    "    \n",
    "    def search(self, key):\n",
    "        hash_key = self.hash_func(key)\n",
    "        if key in self.table[hash_key]: # verificamos si el valor en el indice hash_value existe si no existe retornara falso\n",
    "            return self.table[hash_key]\n",
    "        else:\n",
    "            return False\n",
    "        "
   ]
  },
  {
   "cell_type": "markdown",
   "metadata": {},
   "source": [
    "existen muchas formas de crear una tabla hash pero al final todas tienen una llave y un valor"
   ]
  },
  {
   "cell_type": "code",
   "execution_count": 16,
   "metadata": {},
   "outputs": [],
   "source": [
    "Tablahash = HashTable(96) #indicamos una tabla de tamaño de 100 indices"
   ]
  },
  {
   "cell_type": "code",
   "execution_count": 17,
   "metadata": {},
   "outputs": [],
   "source": [
    "key, value = 'don', '543324'"
   ]
  },
  {
   "cell_type": "code",
   "execution_count": 18,
   "metadata": {},
   "outputs": [
    {
     "data": {
      "text/plain": [
       "33"
      ]
     },
     "execution_count": 18,
     "metadata": {},
     "output_type": "execute_result"
    }
   ],
   "source": [
    "idx = Tablahash.hash_func(key) #solo permite strings\n",
    "idx # es el indice que usaremos para guardar nuestros datos llave valor"
   ]
  },
  {
   "cell_type": "code",
   "execution_count": 19,
   "metadata": {},
   "outputs": [],
   "source": [
    "Tablahash.table[idx] = [key,value] #ingresamos los valores key y value en la posicion idx de la tabla"
   ]
  },
  {
   "cell_type": "code",
   "execution_count": 20,
   "metadata": {},
   "outputs": [
    {
     "data": {
      "text/plain": [
       "['don', '543324']"
      ]
     },
     "execution_count": 20,
     "metadata": {},
     "output_type": "execute_result"
    }
   ],
   "source": [
    "#revisamos si nuestra llave valor esta en nuestra tabla \n",
    "Tablahash.table[idx]"
   ]
  },
  {
   "cell_type": "markdown",
   "metadata": {},
   "source": [
    "#### Listas enlazadas (linked lists)\n",
    "son listas pero estas se diferencian en su forma de almacenarse ya que cada uno de los elementos o valores se encuentra enlazado con los valores siguientes uno de las desventajas es que a diferencia de las listas que podemos ingresar a sus valores desde su posicion en las listas enlazadas debemos recorrer todos los valores hasta llegar al que queremos "
   ]
  },
  {
   "cell_type": "code",
   "execution_count": 35,
   "metadata": {},
   "outputs": [],
   "source": [
    "# creamos la clase donde estara el orden en el que almacenaremos los datos\n",
    "class Node():\n",
    "    def __init__(self, data):\n",
    "        self.data = data # valor que queremos almacenar\n",
    "        self.next = None # siguiente valor que queremos almacenar"
   ]
  },
  {
   "cell_type": "code",
   "execution_count": 40,
   "metadata": {},
   "outputs": [],
   "source": [
    "# creamos la clase de nuestra lista enlazada\n",
    "class Linkedlist:\n",
    "    def __init__(self): #iniciamos nuestra lista enlazada\n",
    "        self.head = None #creamos la cabeza de la lista\n",
    "        \n",
    "    def append (self, value):#funcion para agregar los valores usando la clase Node\n",
    "        if self.head is None: #vemos si el primer valor esta vacio\n",
    "            self.head = Node(value) # le asignamos nuestro valor\n",
    "        else: #si no esta vacio\n",
    "            current_node = self.head # se crea una variable con la cabeza de la lista\n",
    "            while current_node.next is not None: # current_node verifica si el valor next esta vacia\n",
    "                current_node = current_node.next # si no esta vacio entonces pasa al siguiente valor\n",
    "            current_node.next = Node(value) # si el valor next esta vacio entonces se ingresa el valor nuevo\n",
    "    \n",
    "    def print_list(self): #funcion para imprimir la lista\n",
    "        current = self.head # primer valor de la lista \n",
    "        while current is not None: #itera por todos los valores que no sean None\n",
    "            print(current.data)# imprime el valor\n",
    "            current = current.next #pasa al siguiente valor\n",
    "    \n",
    "    def get_element(self, position):#encontrar un valor mediante su indice\n",
    "        i = 0 #posicion de la lista\n",
    "        current = self.head\n",
    "        while current is not None: \n",
    "            if i == position:#si el indice es igual a la posicion retorna el valor actual \n",
    "                return current.data\n",
    "            current = current.next #si no se cumple la condicion anterior pasa al siguiente valor\n",
    "            i += 1 # aumenta el indice\n",
    "        return None"
   ]
  },
  {
   "cell_type": "code",
   "execution_count": 41,
   "metadata": {},
   "outputs": [],
   "source": [
    "list2 = Linkedlist()\n",
    "list2.append(2)\n",
    "list2.append(3)\n",
    "list2.append(5)\n",
    "list2.append(9)"
   ]
  },
  {
   "cell_type": "code",
   "execution_count": 50,
   "metadata": {},
   "outputs": [
    {
     "name": "stdout",
     "output_type": "stream",
     "text": [
      "2\n",
      "3\n",
      "5\n",
      "9\n"
     ]
    }
   ],
   "source": [
    "list2.print_list()"
   ]
  },
  {
   "cell_type": "code",
   "execution_count": null,
   "metadata": {},
   "outputs": [],
   "source": []
  }
 ],
 "metadata": {
  "kernelspec": {
   "display_name": "Python 3",
   "language": "python",
   "name": "python3"
  },
  "language_info": {
   "codemirror_mode": {
    "name": "ipython",
    "version": 3
   },
   "file_extension": ".py",
   "mimetype": "text/x-python",
   "name": "python",
   "nbconvert_exporter": "python",
   "pygments_lexer": "ipython3",
   "version": "3.10.12"
  }
 },
 "nbformat": 4,
 "nbformat_minor": 2
}
