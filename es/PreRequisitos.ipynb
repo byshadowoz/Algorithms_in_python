{
 "cells": [
  {
   "cell_type": "markdown",
   "metadata": {},
   "source": [
    "# Antes de empezar a ver como funcionan los algoritmos hemos de saber algunos prerequisitos para lograr mayor entendimiento de estos"
   ]
  },
  {
   "cell_type": "markdown",
   "metadata": {},
   "source": [
    "## Estructura de Datos"
   ]
  },
  {
   "cell_type": "markdown",
   "metadata": {},
   "source": [
    "### Metodos"
   ]
  },
  {
   "cell_type": "code",
   "execution_count": 2,
   "metadata": {},
   "outputs": [],
   "source": [
    "#supongamos que tenemos la lista 'a' donde existen valores enteros del 1 al 10 en orden ascendiente\n",
    "a = [1,2,3,4,5,6,7,8,9,10]\n",
    "# si queremos ingresar otros datos tenemos los metodos append(), insert() y extend()\n"
   ]
  },
  {
   "cell_type": "code",
   "execution_count": 3,
   "metadata": {},
   "outputs": [
    {
     "data": {
      "text/plain": [
       "[1, 2, 3, 4, 5, 6, 7, 8, 9, 10, 11]"
      ]
     },
     "execution_count": 3,
     "metadata": {},
     "output_type": "execute_result"
    }
   ],
   "source": [
    "# append() agrega un elemento al final de la lista\n",
    "a.append(11)#simplemente pide un argumento el cual es el valor a ingresar\n",
    "a"
   ]
  },
  {
   "cell_type": "code",
   "execution_count": 4,
   "metadata": {},
   "outputs": [
    {
     "data": {
      "text/plain": [
       "[1, 2, 3, 4, 5, 6, 7, 8, 9, 10, 11, 12]"
      ]
     },
     "execution_count": 4,
     "metadata": {},
     "output_type": "execute_result"
    }
   ],
   "source": [
    "# insert() requiere de dos argumentos, la posicion y el valor\n",
    "a.insert(11, 12) #aqui estos colocando en la posicion 11 y el valor 12\n",
    "a"
   ]
  },
  {
   "cell_type": "code",
   "execution_count": 5,
   "metadata": {},
   "outputs": [
    {
     "data": {
      "text/plain": [
       "[1, 2, 3, 4, 5, 6, 7, 8, 9, 10, 11, 12, 20, 21, 22, 23, 24, 25]"
      ]
     },
     "execution_count": 5,
     "metadata": {},
     "output_type": "execute_result"
    }
   ],
   "source": [
    "# extend() es un metodo  para agregar todos los datos de un iterable sea lista, tupla, diccionario o string \n",
    "b = [20,21,22,23,24,25]#nueva lista\n",
    "a.extend(b)\n",
    "a"
   ]
  },
  {
   "cell_type": "code",
   "execution_count": 6,
   "metadata": {},
   "outputs": [],
   "source": [
    "#ahora si queremos eliminar valores de nuestra lista a tenemos los metodos\n",
    "# remove(), pop() y del"
   ]
  },
  {
   "cell_type": "code",
   "execution_count": 7,
   "metadata": {},
   "outputs": [
    {
     "data": {
      "text/plain": [
       "[1, 2, 3, 4, 5, 6, 7, 8, 9, 10, 12, 20, 21, 22, 23, 24, 25]"
      ]
     },
     "execution_count": 7,
     "metadata": {},
     "output_type": "execute_result"
    }
   ],
   "source": [
    "# remove() elimina el primer valor que encuentre que sea igual a el \n",
    "# valor dado si no existe dara un error\n",
    "a.remove(11) #valor a eliminar\n",
    "a"
   ]
  },
  {
   "cell_type": "code",
   "execution_count": 8,
   "metadata": {},
   "outputs": [
    {
     "ename": "ValueError",
     "evalue": "list.remove(x): x not in list",
     "output_type": "error",
     "traceback": [
      "\u001b[0;31m---------------------------------------------------------------------------\u001b[0m",
      "\u001b[0;31mValueError\u001b[0m                                Traceback (most recent call last)",
      "Cell \u001b[0;32mIn[8], line 1\u001b[0m\n\u001b[0;32m----> 1\u001b[0m \u001b[43ma\u001b[49m\u001b[38;5;241;43m.\u001b[39;49m\u001b[43mremove\u001b[49m\u001b[43m(\u001b[49m\u001b[38;5;241;43m100\u001b[39;49m\u001b[43m)\u001b[49m\n\u001b[1;32m      2\u001b[0m \u001b[38;5;66;03m#imprimira un value error\u001b[39;00m\n",
      "\u001b[0;31mValueError\u001b[0m: list.remove(x): x not in list"
     ]
    }
   ],
   "source": [
    "a.remove(100)\n",
    "#imprimira un value error"
   ]
  },
  {
   "cell_type": "code",
   "execution_count": 9,
   "metadata": {},
   "outputs": [
    {
     "data": {
      "text/plain": [
       "[1, 2, 3, 4, 5, 6, 7, 8, 9, 10, 12, 20, 21, 22, 23, 25]"
      ]
     },
     "execution_count": 9,
     "metadata": {},
     "output_type": "execute_result"
    }
   ],
   "source": [
    "# pop() elimina el valor de la posicion dada si no existe dara error y si no le damos ningun\n",
    "# argumento eliminara el ultimo elemento de la lista, si la lista esta vacia tambien dara error\n",
    "a.pop(15)#elimina el valor de la posicion 15\n",
    "a"
   ]
  },
  {
   "cell_type": "code",
   "execution_count": 10,
   "metadata": {},
   "outputs": [
    {
     "data": {
      "text/plain": [
       "[1, 2, 12, 20, 21, 22, 23, 25]"
      ]
     },
     "execution_count": 10,
     "metadata": {},
     "output_type": "execute_result"
    }
   ],
   "source": [
    "# del elimina valores desde la posicion x hasta la posicion y siendo y mas alto que x\n",
    "del a[2:10] #eliminara los valores desde la posicion 2 hasta la posicion 9 (no elimina el valor de la posicion 10)\n",
    "a"
   ]
  },
  {
   "cell_type": "code",
   "execution_count": 14,
   "metadata": {},
   "outputs": [
    {
     "data": {
      "text/plain": [
       "3"
      ]
     },
     "execution_count": 14,
     "metadata": {},
     "output_type": "execute_result"
    }
   ],
   "source": [
    "# retorna la posicion del valor ingresado si no existe dara error \n",
    "a.index(20)# valor "
   ]
  },
  {
   "cell_type": "code",
   "execution_count": 15,
   "metadata": {},
   "outputs": [
    {
     "data": {
      "text/plain": [
       "1"
      ]
     },
     "execution_count": 15,
     "metadata": {},
     "output_type": "execute_result"
    }
   ],
   "source": [
    "# retorna la cantidad de veces que aparece el valor en la lista\n",
    "a.count(25) # valor 25 solo aparece una vez"
   ]
  },
  {
   "cell_type": "code",
   "execution_count": 18,
   "metadata": {},
   "outputs": [
    {
     "data": {
      "text/plain": [
       "[25, 23, 22, 21, 20, 12, 2, 1]"
      ]
     },
     "execution_count": 18,
     "metadata": {},
     "output_type": "execute_result"
    }
   ],
   "source": [
    "# invierte las posiciones de la lista\n",
    "a.reverse()\n",
    "a"
   ]
  },
  {
   "cell_type": "code",
   "execution_count": 21,
   "metadata": {},
   "outputs": [
    {
     "data": {
      "text/plain": [
       "[25, 23, 22, 21, 20, 12, 2, 1]"
      ]
     },
     "execution_count": 21,
     "metadata": {},
     "output_type": "execute_result"
    }
   ],
   "source": [
    "# ordena los valores segun su argumento \n",
    "a.sort(reverse=True)#True ordena de mayor a menor y viceversa\n",
    "a"
   ]
  },
  {
   "cell_type": "markdown",
   "metadata": {},
   "source": [
    "ahora tenemos una lista 'ciudades' con nombres de distintas ciudades"
   ]
  },
  {
   "cell_type": "code",
   "execution_count": 22,
   "metadata": {},
   "outputs": [],
   "source": [
    "ciudades = ['Sidney','LA','Bogota','Lima','Santiago','Buenos Aires','La Paz']"
   ]
  },
  {
   "cell_type": "code",
   "execution_count": 27,
   "metadata": {},
   "outputs": [
    {
     "data": {
      "text/plain": [
       "['Bogota', 'Buenos Aires', 'LA', 'La Paz', 'Lima', 'Santiago', 'Sidney']"
      ]
     },
     "execution_count": 27,
     "metadata": {},
     "output_type": "execute_result"
    }
   ],
   "source": [
    "#el metodo sort los agrupara por el orden alfabetico del primer caracter\n",
    "ciudades.sort()\n",
    "ciudades"
   ]
  },
  {
   "cell_type": "markdown",
   "metadata": {},
   "source": [
    "### Estructuras"
   ]
  },
  {
   "cell_type": "markdown",
   "metadata": {},
   "source": [
    "existen varios tipos de estructuras de datos, para poder entender la mayoria de los algoritmos te mostrare 10 estructuas de datos muy utilizadas en la programacion"
   ]
  },
  {
   "cell_type": "markdown",
   "metadata": {},
   "source": [
    "#### Tabla hash (Hashtable)"
   ]
  },
  {
   "cell_type": "markdown",
   "metadata": {},
   "source": [
    "Las tablas hash son basicamente diccionarios de python {} donde se guarda una llave-valor con esta tabla solo necesitas tener la llave para acceder al valor dentro de ella. \n",
    "Las tablas hash tambien contienen una funcion hash la cual es la que se encarga de crear una direccion para guardar los elementos en la celda de esa direccion"
   ]
  },
  {
   "cell_type": "code",
   "execution_count": 162,
   "metadata": {},
   "outputs": [],
   "source": [
    "# para crear una tabla hash podemos crear una clase\n",
    "class HashTable:\n",
    "    def __init__(self, size): #inicializamos la clase\n",
    "        self.table = [[] for _ in range(size)]  # creamos una tabla que tenga el tamaño establecido en el parametro size \n",
    "        \n",
    "    def hash_func(self, key): # esta es la que empezara la funcion hash \n",
    "        val = 0#la llave que tendra nuestro valor\n",
    "        for i in range(0,len(key)): #iteramos desde cero hasta el indice mas alto de nuestro valor\n",
    "            val += ord(key[i]) #ord es un metodo que nos devuelve el valor ascii de un caracter\n",
    "        return val % len(self.table) # divide el valor de la llave entre el tamaño de la tabla y nos devuelve el residuo de la division\n",
    "    \n",
    "    def search(self, key):\n",
    "        hash_key = self.hash_func(key)\n",
    "        if key in self.table[hash_key]: # verificamos si el valor en el indice hash_value existe si no existe retornara falso\n",
    "            return self.table[hash_key]\n",
    "        else:\n",
    "            return False\n",
    "        "
   ]
  },
  {
   "cell_type": "markdown",
   "metadata": {},
   "source": [
    "existen muchas formas de crear una tabla hash pero al final todas tienen una llave y un valor"
   ]
  },
  {
   "cell_type": "code",
   "execution_count": 163,
   "metadata": {},
   "outputs": [],
   "source": [
    "Tablahash = HashTable(96) #indicamos una tabla de tamaño de 100 indices"
   ]
  },
  {
   "cell_type": "code",
   "execution_count": 164,
   "metadata": {},
   "outputs": [],
   "source": [
    "key, value = 'don', '543324'"
   ]
  },
  {
   "cell_type": "code",
   "execution_count": 168,
   "metadata": {},
   "outputs": [
    {
     "data": {
      "text/plain": [
       "33"
      ]
     },
     "execution_count": 168,
     "metadata": {},
     "output_type": "execute_result"
    }
   ],
   "source": [
    "idx = Tablahash.hash_func(key) #solo permite strings\n",
    "idx # es el indice que usaremos para guardar nuestros datos llave valor"
   ]
  },
  {
   "cell_type": "code",
   "execution_count": 169,
   "metadata": {},
   "outputs": [],
   "source": [
    "Tablahash.table[idx] = (key,value) #ingresamos los valores key y value en la posicion idx de la tabla"
   ]
  },
  {
   "cell_type": "markdown",
   "metadata": {},
   "source": [
    "#### Listas enlazadas (linked lists)"
   ]
  },
  {
   "cell_type": "code",
   "execution_count": null,
   "metadata": {},
   "outputs": [],
   "source": []
  }
 ],
 "metadata": {
  "kernelspec": {
   "display_name": "Python 3",
   "language": "python",
   "name": "python3"
  },
  "language_info": {
   "codemirror_mode": {
    "name": "ipython",
    "version": 3
   },
   "file_extension": ".py",
   "mimetype": "text/x-python",
   "name": "python",
   "nbconvert_exporter": "python",
   "pygments_lexer": "ipython3",
   "version": "3.10.12"
  }
 },
 "nbformat": 4,
 "nbformat_minor": 2
}
