{
 "cells": [
  {
   "cell_type": "markdown",
   "metadata": {},
   "source": [
    "# Funciones Lambda\n",
    "- estas funciones son en pocas palabras funciones de una sola linea anonimas \n",
    "- se pueden utilizar en lugar de funciones normales cuando se trata de cosas no tan complejas o que no volveremos a usar\n",
    "- se usan mayormente como argumento de otras funciones llamadas funciones de orden superior"
   ]
  },
  {
   "cell_type": "code",
   "execution_count": 2,
   "metadata": {},
   "outputs": [
    {
     "name": "stdout",
     "output_type": "stream",
     "text": [
      "6\n",
      "30\n"
     ]
    }
   ],
   "source": [
    "ejemplo = lambda x: x+1\n",
    "print(ejemplo(5))  # Salida: 6\n",
    "ejemplo2 = lambda x,y: x*y\n",
    "print(ejemplo2(5,6))  # Salida: 30"
   ]
  },
  {
   "cell_type": "markdown",
   "metadata": {},
   "source": [
    "## Hagamos un ejemplo de uso mas realista con la funcion de orden superior map()"
   ]
  },
  {
   "cell_type": "code",
   "execution_count": 6,
   "metadata": {},
   "outputs": [
    {
     "name": "stdout",
     "output_type": "stream",
     "text": [
      "[1, 4, 9, 16, 25, 36, 49, 64, 81]\n"
     ]
    }
   ],
   "source": [
    "# without lambda\n",
    "def cuadrado(x):\n",
    "    return x ** 2\n",
    "lista =  [1,2,3,4,5,6,7,8,9]\n",
    "\n",
    "square = list(map(cuadrado, lista))\n",
    "print(square)"
   ]
  },
  {
   "cell_type": "code",
   "execution_count": 7,
   "metadata": {},
   "outputs": [
    {
     "name": "stdout",
     "output_type": "stream",
     "text": [
      "[1, 4, 9, 16, 25, 36, 49, 64, 81]\n"
     ]
    }
   ],
   "source": [
    "# with lamba\n",
    "lista = [1,2,3,4,5,6,7,8,9]\n",
    "\n",
    "square = list(map(lambda x: x ** 2, lista))\n",
    "print(square)"
   ]
  },
  {
   "cell_type": "markdown",
   "metadata": {},
   "source": [
    "La diferencia radica en el numero de lineas que se utiliza, al usar la funcion lambda se usan menos lineas y no se tiene que crear una funcion que no se va volver a usar  "
   ]
  },
  {
   "cell_type": "markdown",
   "metadata": {},
   "source": [
    "## Ahora veamos con la funcion superior filter()"
   ]
  },
  {
   "cell_type": "code",
   "execution_count": 9,
   "metadata": {},
   "outputs": [
    {
     "name": "stdout",
     "output_type": "stream",
     "text": [
      "[2, 4, 6, 8, 10]\n"
     ]
    }
   ],
   "source": [
    "lista = [1,2,3,4,5,6,7,8,9,10]\n",
    "\n",
    "evens = list(filter(lambda x: x%2 == 0, lista ))\n",
    "print(evens)"
   ]
  },
  {
   "cell_type": "markdown",
   "metadata": {},
   "source": [
    "## Hagamoslo ahora un poco mas complejo con sorted()"
   ]
  },
  {
   "cell_type": "code",
   "execution_count": 15,
   "metadata": {},
   "outputs": [
    {
     "name": "stdout",
     "output_type": "stream",
     "text": [
      "[(1, 'a', 'cos'), (2, 'c', 'tan'), (3, 'e', 'cot')]\n"
     ]
    }
   ],
   "source": [
    "valores = [(1,'a', 'cos'), (2,'c','tan'), (3, 'e', 'cot')]\n",
    "\n",
    "sorted_valores = sorted(valores, key=lambda x:x[0] + ord(x[1]))\n",
    "print(sorted_valores)"
   ]
  },
  {
   "cell_type": "markdown",
   "metadata": {},
   "source": [
    "## Ahora usaremos una funcion superior de functools, reduce(). Este ejemplo ya es mas complejo que el anterior"
   ]
  },
  {
   "cell_type": "code",
   "execution_count": 21,
   "metadata": {},
   "outputs": [
    {
     "name": "stdout",
     "output_type": "stream",
     "text": [
      "55\n",
      "9\n"
     ]
    }
   ],
   "source": [
    "from functools import reduce\n",
    "\n",
    "numbers = [1,2,3,4,5,6,7,8,9,10]\n",
    "\n",
    "#usando reduce() para sumar todos los valores \n",
    "sum_of_numbers = reduce(lambda acc, x: acc + x, numbers)\n",
    "# primera iteracion: acc = 1 x = 2: acc + x = 3\n",
    "# segunda iteracion: acc = 3 x = 3: acc + x = 6\n",
    "# tercera iteracion: acc = 6 x = 4: acc + x = 10\n",
    "# ...\n",
    "print(sum_of_numbers) # 55\n",
    "\n",
    "# usando reduce() para encontrar el maximo numero\n",
    "lista = [1,3,5,7,8,4,2,6,0,9]\n",
    "\n",
    "max_value = reduce(lambda acc, x: acc if acc > x else x, lista)\n",
    "print(max_value) # 9"
   ]
  },
  {
   "cell_type": "code",
   "execution_count": null,
   "metadata": {},
   "outputs": [],
   "source": []
  }
 ],
 "metadata": {
  "kernelspec": {
   "display_name": "base",
   "language": "python",
   "name": "python3"
  },
  "language_info": {
   "codemirror_mode": {
    "name": "ipython",
    "version": 3
   },
   "file_extension": ".py",
   "mimetype": "text/x-python",
   "name": "python",
   "nbconvert_exporter": "python",
   "pygments_lexer": "ipython3",
   "version": "3.11.5"
  }
 },
 "nbformat": 4,
 "nbformat_minor": 2
}
