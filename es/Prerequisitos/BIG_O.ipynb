{
 "cells": [
  {
   "cell_type": "markdown",
   "metadata": {},
   "source": [
    "uno de los otros temas importantes para saber algoritmos en python son la complejidad algoritmica, existen varias formas de calcularla pero solo veremos las mas utilizada Big O notation"
   ]
  },
  {
   "cell_type": "markdown",
   "metadata": {},
   "source": [
    "# Complejidad Algoritmica"
   ]
  },
  {
   "cell_type": "markdown",
   "metadata": {},
   "source": [
    "## Que es?\n",
    "***"
   ]
  },
  {
   "cell_type": "markdown",
   "metadata": {},
   "source": [
    "##### La complejidad algoritmica es el tiempo y espacio que usa un algoritmo a medida que sus datos van aumentando.\n",
    "***\n",
    "por ejemplo:\n",
    "un dentista tarda 30 minutos en atender a un paciente a medida que la cantidad de pacientes crezca este tardara mas en atenderlos a todos si a los pacientes los representamos como n y crece de manera constante ya que tardara siempre 30 minutos podemos decir que tiene una complejidad Lineal. por otro lado el espacio que ocupa para atender a una persona siempre es el mismo al ser siempre una persona se le puede representar por 1 asi su complejidad de espacio es constante\n",
    "***"
   ]
  },
  {
   "cell_type": "markdown",
   "metadata": {},
   "source": [
    "## Notacion Big O (O grande) \n"
   ]
  },
  {
   "cell_type": "markdown",
   "metadata": {},
   "source": [
    "Big O es una notacion asintotica, la forma de calcular el peor caso posible de un algoritmo donde los valores que le ingresamos pueden ser infinitos tienen un orden que va desde O(1) que es el mejor caso posible y O(n!) siendo el peor de todos \n",
    "***\n",
    "***\n",
    "- O(1) - Constante: El algoritmo siempre tarda lo mismo\n",
    "***\n",
    "- O(log n) - Logarítmico: El algoritmo tarda en función del logaritmo del tamaño de la entrada\n",
    "***\n",
    "- O(n) - Lineal: El algoritmo tarda en función de la cantidad de elementos de la entrada\n",
    "***\n",
    "- O(n log n) - Lineal Logarítmico: tarda en funcion a la cantidad de elementos de entrada multiplicado por el logaritmo del tamaño de la entrada\n",
    "***\n",
    "- O(n^2) - Cuadrático: El algoritmo tarda en función a la cantidad de elementos de entrada elevado al cuadrado\n",
    "***\n",
    "- O(2^n) - Exponencial: El algoritmo tarda en función de 2 elevado a la cantidad de elementos de entrada\n",
    "***\n",
    "- O(n!) - Factorial: El algoritmo tarda en función del factorial de los elementos de entrada"
   ]
  },
  {
   "cell_type": "markdown",
   "metadata": {},
   "source": [
    "## Por que es importante?\n",
    "***"
   ]
  },
  {
   "cell_type": "markdown",
   "metadata": {},
   "source": [
    "Saber la complejidad algoritmica de nuestros algoritmos es importante para poder saber si este esta bien optimizado para poder soportar los inputs que se le sean requeridos  ademas de nos ayuda a entender mejor como es que funcionan los algoritmos, algo muy importante cuando nos dan algoritmos ya hechos "
   ]
  },
  {
   "cell_type": "markdown",
   "metadata": {},
   "source": [
    "## Como puedo calcularlo por mi mismo?"
   ]
  },
  {
   "cell_type": "markdown",
   "metadata": {},
   "source": [
    "vamos a revisar distintas formas de calcular los diferentes casos de complejidad algoritmica y como detectarlos dependiendo de que es lo que hace:\n",
    "***"
   ]
  },
  {
   "cell_type": "markdown",
   "metadata": {},
   "source": [
    "### O(1)"
   ]
  },
  {
   "cell_type": "code",
   "execution_count": 1,
   "metadata": {},
   "outputs": [
    {
     "name": "stdout",
     "output_type": "stream",
     "text": [
      "100000000000000000000000000\n"
     ]
    }
   ],
   "source": [
    "print(1000000000*100000000000000000) # no importa que tan grande sea el numero siempre sera O(1) ya que se ejecuta una vez"
   ]
  },
  {
   "cell_type": "markdown",
   "metadata": {},
   "source": [
    "### O(log n)"
   ]
  },
  {
   "cell_type": "code",
   "execution_count": 2,
   "metadata": {},
   "outputs": [
    {
     "data": {
      "text/plain": [
       "'done'"
      ]
     },
     "execution_count": 2,
     "metadata": {},
     "output_type": "execute_result"
    }
   ],
   "source": [
    "def log(n):\n",
    "    while n > 1:\n",
    "        n = n // 2\n",
    "    return 'done'\n",
    "log(10000000000000000000000000000000000000000000000000000000000000)"
   ]
  },
  {
   "cell_type": "markdown",
   "metadata": {},
   "source": [
    "### O(n)"
   ]
  },
  {
   "cell_type": "code",
   "execution_count": 3,
   "metadata": {},
   "outputs": [
    {
     "name": "stdout",
     "output_type": "stream",
     "text": [
      "0\n",
      "1\n"
     ]
    }
   ],
   "source": [
    "n = int(input('ingresar numero'))\n",
    "for i in range(0, n): # en este caso el ciclo for se ejecutara las veces que n le diga\n",
    "    print(i)"
   ]
  },
  {
   "cell_type": "markdown",
   "metadata": {},
   "source": [
    "### O(n^2)"
   ]
  },
  {
   "cell_type": "code",
   "execution_count": 4,
   "metadata": {},
   "outputs": [
    {
     "name": "stdout",
     "output_type": "stream",
     "text": [
      "0 0\n",
      "0 1\n",
      "1 0\n",
      "1 1\n"
     ]
    }
   ],
   "source": [
    "n = int(input('ingresar numero'))\n",
    "for i in range(0, n):\n",
    "    for j in range(0, n): # ahora este ciclo se ejecutara las veces que se ejecute el ciclo anterior es decir mientras que i < n, j se ejecutara hasta llegar a n, asi hasta que i = n\n",
    "        print(i, j)"
   ]
  },
  {
   "cell_type": "markdown",
   "metadata": {},
   "source": [
    "### O(n log n)"
   ]
  },
  {
   "cell_type": "code",
   "execution_count": 5,
   "metadata": {},
   "outputs": [
    {
     "name": "stdout",
     "output_type": "stream",
     "text": [
      "0\n",
      "1\n",
      "2\n",
      "3\n",
      "0\n",
      "1\n",
      "2\n",
      "3\n"
     ]
    }
   ],
   "source": [
    "def nlogn(n):\n",
    "    m = n\n",
    "    while n > 1:\n",
    "        n = n // 2\n",
    "        for i in range(0, m):\n",
    "            print(i)\n",
    "nlogn(4)\n",
    "\n"
   ]
  },
  {
   "cell_type": "markdown",
   "metadata": {},
   "source": [
    "### O(2^n)"
   ]
  },
  {
   "cell_type": "code",
   "execution_count": 6,
   "metadata": {},
   "outputs": [
    {
     "data": {
      "text/plain": [
       "2"
      ]
     },
     "execution_count": 6,
     "metadata": {},
     "output_type": "execute_result"
    }
   ],
   "source": [
    "def fib(n):\n",
    "    if n <= 1:\n",
    "        return n\n",
    "    else:\n",
    "        return fib(n-1) + fib(n-2)\n",
    "fib(3)"
   ]
  },
  {
   "cell_type": "markdown",
   "metadata": {},
   "source": [
    "### O(n!)"
   ]
  },
  {
   "cell_type": "code",
   "execution_count": 7,
   "metadata": {},
   "outputs": [
    {
     "name": "stdout",
     "output_type": "stream",
     "text": [
      "***********\n",
      "***********\n",
      "***********\n",
      "***********\n",
      "***********\n",
      "***********\n"
     ]
    }
   ],
   "source": [
    "def factorial(n):\n",
    "    if n == 0:\n",
    "        print(\"***********\")\n",
    "        return\n",
    "    else:\n",
    "        for i in range(0, n):\n",
    "            factorial(n-1)\n",
    "factorial(3)#riesgo "
   ]
  },
  {
   "cell_type": "code",
   "execution_count": null,
   "metadata": {},
   "outputs": [],
   "source": []
  }
 ],
 "metadata": {
  "kernelspec": {
   "display_name": "Python 3",
   "language": "python",
   "name": "python3"
  },
  "language_info": {
   "codemirror_mode": {
    "name": "ipython",
    "version": 3
   },
   "file_extension": ".py",
   "mimetype": "text/x-python",
   "name": "python",
   "nbconvert_exporter": "python",
   "pygments_lexer": "ipython3",
   "version": "3.10.12"
  }
 },
 "nbformat": 4,
 "nbformat_minor": 2
}
