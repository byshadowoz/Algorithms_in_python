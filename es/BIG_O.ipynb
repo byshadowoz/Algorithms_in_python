{
 "cells": [
  {
   "cell_type": "markdown",
   "metadata": {},
   "source": [
    "uno de los otros temas importantes para saber algoritmos en python son la complejidad algoritmica, existen varias formas de calcularla pero solo veremos las mas utilizada Big O notation"
   ]
  },
  {
   "cell_type": "markdown",
   "metadata": {},
   "source": [
    "# Complejidad Algoritmica"
   ]
  },
  {
   "cell_type": "markdown",
   "metadata": {},
   "source": [
    "## Que es?"
   ]
  },
  {
   "cell_type": "markdown",
   "metadata": {},
   "source": [
    "##### La complejidad algoritmica es el tiempo y espacio que usa un algoritmo a medida que sus datos van aumentando.\n",
    "por ejemplo:\n",
    "un dentista tarda 30 minutos en atender a un paciente a medida que la cantidad de pacientes crezca este tardara mas en atenderlos a todos si a los pacientes los representamos como n y crece de manera constante ya que tardara siempre 30 minutos podemos decir que tiene una complejidad Lineal. por otro lado el espacio que ocupa para atender a una persona siempre es el mismo al ser siempre una persona se le puede representar por 1 asi su complejidad de espacio es constante"
   ]
  },
  {
   "cell_type": "markdown",
   "metadata": {},
   "source": [
    "## Notacion Big O (O grande) "
   ]
  },
  {
   "cell_type": "markdown",
   "metadata": {},
   "source": [
    "Big O es una notacion asintotica, la forma de calcular el peor caso posible de un algoritmo donde los valores que le ingresamos pueden ser infinitos tienen un orden que va desde O(1) que es el mejor caso posible y O(n!) siendo el peor de todos \n",
    "***\n",
    "***\n",
    "- O(1) - Constante: El algoritmo siempre tarda lo mismo\n",
    "***\n",
    "- O(log n) - Logarítmico: El algoritmo tarda en función del logaritmo del tamaño de la entrada\n",
    "***\n",
    "- O(n) - Lineal: El algoritmo tarda en función de la cantidad de elementos de la entrada\n",
    "***\n",
    "- O(n log n) - Lineal Logarítmico: tarda en funcion a la cantidad de elementos de entrada multiplicado por el logaritmo del tamaño de la entrada\n",
    "***\n",
    "- O(n^2) - Cuadrático: El algoritmo tarda en función a la cantidad de elementos de entrada elevado al cuadrado\n",
    "***\n",
    "- O(2^n) - Exponencial: El algoritmo tarda en función de 2 elevado a la cantidad de elementos de entrada\n",
    "***\n",
    "- O(n!) - Factorial: El algoritmo tarda en función del factorial de los elementos de entrada"
   ]
  },
  {
   "cell_type": "markdown",
   "metadata": {},
   "source": [
    "## Por que es importante?"
   ]
  },
  {
   "cell_type": "markdown",
   "metadata": {},
   "source": [
    "## cuales son los tipos de complejidad?"
   ]
  },
  {
   "cell_type": "markdown",
   "metadata": {},
   "source": [
    "## Como puedo calcularlo por mi mismo?"
   ]
  }
 ],
 "metadata": {
  "language_info": {
   "name": "python"
  }
 },
 "nbformat": 4,
 "nbformat_minor": 2
}
